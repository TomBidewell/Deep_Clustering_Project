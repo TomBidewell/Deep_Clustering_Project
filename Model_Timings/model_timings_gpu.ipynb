{
  "cells": [
    {
      "cell_type": "markdown",
      "metadata": {
        "id": "view-in-github",
        "colab_type": "text"
      },
      "source": [
        "<a href=\"https://colab.research.google.com/github/TomBidewell/Deep_Clustering_Project/blob/main/model_timings_gpu.ipynb\" target=\"_parent\"><img src=\"https://colab.research.google.com/assets/colab-badge.svg\" alt=\"Open In Colab\"/></a>"
      ]
    },
    {
      "cell_type": "markdown",
      "id": "67e57438",
      "metadata": {
        "id": "67e57438"
      },
      "source": [
        "# Deep Clustering"
      ]
    },
    {
      "cell_type": "markdown",
      "id": "7c25ea60",
      "metadata": {
        "id": "7c25ea60"
      },
      "source": [
        "<a id=\"1\"></a>\n",
        "\n",
        "## Imports\n"
      ]
    },
    {
      "cell_type": "code",
      "source": [
        "!pip install k-means-constrained --quiet"
      ],
      "metadata": {
        "colab": {
          "base_uri": "https://localhost:8080/"
        },
        "id": "zhqcfpDYnIZE",
        "outputId": "710660d3-bf01-4675-fbe7-5d088073f5db"
      },
      "id": "zhqcfpDYnIZE",
      "execution_count": null,
      "outputs": [
        {
          "output_type": "stream",
          "name": "stdout",
          "text": [
            "\u001b[2K     \u001b[90m━━━━━━━━━━━━━━━━━━━━━━━━━━━━━━━━━━━━━━━━\u001b[0m \u001b[32m2.0/2.0 MB\u001b[0m \u001b[31m9.7 MB/s\u001b[0m eta \u001b[36m0:00:00\u001b[0m\n",
            "\u001b[2K     \u001b[90m━━━━━━━━━━━━━━━━━━━━━━━━━━━━━━━━━━━━━━━━\u001b[0m \u001b[32m24.8/24.8 MB\u001b[0m \u001b[31m35.2 MB/s\u001b[0m eta \u001b[36m0:00:00\u001b[0m\n",
            "\u001b[2K     \u001b[90m━━━━━━━━━━━━━━━━━━━━━━━━━━━━━━━━━━━━━━━━\u001b[0m \u001b[32m133.7/133.7 kB\u001b[0m \u001b[31m10.5 MB/s\u001b[0m eta \u001b[36m0:00:00\u001b[0m\n",
            "\u001b[2K     \u001b[90m━━━━━━━━━━━━━━━━━━━━━━━━━━━━━━━━━━━━━━━━\u001b[0m \u001b[32m302.8/302.8 kB\u001b[0m \u001b[31m26.0 MB/s\u001b[0m eta \u001b[36m0:00:00\u001b[0m\n",
            "\u001b[?25h\u001b[31mERROR: pip's dependency resolver does not currently take into account all the packages that are installed. This behaviour is the source of the following dependency conflicts.\n",
            "google-api-core 1.34.1 requires protobuf!=3.20.0,!=3.20.1,!=4.21.0,!=4.21.1,!=4.21.2,!=4.21.3,!=4.21.4,!=4.21.5,<4.0.0dev,>=3.19.5, but you have protobuf 5.26.1 which is incompatible.\n",
            "googleapis-common-protos 1.63.0 requires protobuf!=3.20.0,!=3.20.1,!=4.21.1,!=4.21.2,!=4.21.3,!=4.21.4,!=4.21.5,<5.0.0.dev0,>=3.19.5, but you have protobuf 5.26.1 which is incompatible.\n",
            "tensorflow 2.15.0 requires protobuf!=4.21.0,!=4.21.1,!=4.21.2,!=4.21.3,!=4.21.4,!=4.21.5,<5.0.0dev,>=3.20.3, but you have protobuf 5.26.1 which is incompatible.\n",
            "tensorflow-metadata 1.14.0 requires absl-py<2.0.0,>=0.9, but you have absl-py 2.1.0 which is incompatible.\n",
            "tensorflow-metadata 1.14.0 requires protobuf<4.21,>=3.20.3, but you have protobuf 5.26.1 which is incompatible.\u001b[0m\u001b[31m\n",
            "\u001b[0m"
          ]
        }
      ]
    },
    {
      "cell_type": "code",
      "source": [
        "!pip install shap --quiet"
      ],
      "metadata": {
        "colab": {
          "base_uri": "https://localhost:8080/"
        },
        "id": "WhNLYu9pnRZE",
        "outputId": "bd0b3315-c77e-49a0-d7a6-fce013f6c3ef"
      },
      "id": "WhNLYu9pnRZE",
      "execution_count": null,
      "outputs": [
        {
          "output_type": "stream",
          "name": "stdout",
          "text": [
            "\u001b[2K     \u001b[90m━━━━━━━━━━━━━━━━━━━━━━━━━━━━━━━━━━━━━━━━\u001b[0m \u001b[32m538.2/538.2 kB\u001b[0m \u001b[31m3.3 MB/s\u001b[0m eta \u001b[36m0:00:00\u001b[0m\n",
            "\u001b[?25h"
          ]
        }
      ]
    },
    {
      "cell_type": "code",
      "execution_count": 1,
      "id": "d1e96ded",
      "metadata": {
        "id": "d1e96ded"
      },
      "outputs": [],
      "source": [
        "import numpy as np\n",
        "import torch\n",
        "import torch.optim as optim\n",
        "import torch.nn as nn\n",
        "import torch.nn.functional as F\n",
        "import matplotlib.pyplot as plt\n",
        "from datetime import datetime\n",
        "from sklearn.preprocessing import MinMaxScaler\n",
        "from sklearn.model_selection import train_test_split\n",
        "from tqdm import tqdm\n",
        "from sklearn.cluster import KMeans, DBSCAN\n",
        "from sklearn.decomposition import PCA\n",
        "from sklearn.metrics import silhouette_score, silhouette_samples\n",
        "import copy\n",
        "import random\n",
        "#from k_means_constrained import KMeansConstrained\n",
        "import pandas as pd\n",
        "#import shap"
      ]
    },
    {
      "cell_type": "code",
      "source": [
        "\n",
        "\n",
        "# Check if GPUs are detected\n",
        "print( torch.cuda.is_available() )\n",
        "\n"
      ],
      "metadata": {
        "colab": {
          "base_uri": "https://localhost:8080/"
        },
        "id": "b_aW5rYpnY0b",
        "outputId": "e09427a5-7ab9-46f7-8608-f37533fcdda3"
      },
      "id": "b_aW5rYpnY0b",
      "execution_count": null,
      "outputs": [
        {
          "output_type": "stream",
          "name": "stdout",
          "text": [
            "True\n"
          ]
        }
      ]
    },
    {
      "cell_type": "code",
      "source": [
        "from google.colab import drive\n",
        "drive.mount('/content/gdrive')"
      ],
      "metadata": {
        "colab": {
          "base_uri": "https://localhost:8080/"
        },
        "id": "6BxG8H2-oXtf",
        "outputId": "d39949c0-5da0-48d4-cce1-3fa244d00963"
      },
      "id": "6BxG8H2-oXtf",
      "execution_count": 2,
      "outputs": [
        {
          "output_type": "stream",
          "name": "stdout",
          "text": [
            "Mounted at /content/gdrive\n"
          ]
        }
      ]
    },
    {
      "cell_type": "markdown",
      "id": "b160c07e",
      "metadata": {
        "id": "b160c07e"
      },
      "source": [
        "<a id=\"2\"></a>\n",
        "\n",
        "### Read in and Preprocess Data"
      ]
    },
    {
      "cell_type": "code",
      "execution_count": 3,
      "id": "137fdedd",
      "metadata": {
        "id": "137fdedd"
      },
      "outputs": [],
      "source": [
        "query_1 = pd.read_csv('gdrive/My Drive/Data_pulled_24_jan/query_1.csv')\n",
        "query_2 = pd.read_csv('gdrive/My Drive/Data_pulled_24_jan/query_2.csv')\n",
        "query_3 = pd.read_csv('gdrive/My Drive/Data_pulled_24_jan/query_3.csv')\n",
        "query_4 = pd.read_csv('gdrive/My Drive/Data_pulled_24_jan/query_4.csv')\n",
        "query_5 = pd.read_csv('gdrive/My Drive/Data_pulled_24_jan/query_5.csv')\n",
        "query_6 = pd.read_csv('gdrive/My Drive/Data_pulled_24_jan/query_6.csv')\n",
        "new_coupon_data = pd.read_csv('gdrive/My Drive/Data_pulled_24_jan/new_coupon_desg_data.csv')"
      ]
    },
    {
      "cell_type": "code",
      "execution_count": 4,
      "id": "4ae0c0f4",
      "metadata": {
        "id": "4ae0c0f4"
      },
      "outputs": [],
      "source": [
        "df_raw = pd.merge(query_1, query_2, how='left', left_on='id', right_on = 'username_id')\n",
        "df_raw = pd.merge(df_raw, query_3, how='left', on='username')\n",
        "df_raw = pd.merge(df_raw, query_4, how='left', on='id')\n",
        "df_raw = pd.merge(df_raw, query_5, how='left', left_on='id', right_on = 'username_id')\n",
        "df_raw = pd.merge(df_raw, query_6, how='left', on='username')\n",
        "df_raw = df_raw.drop(columns = ['coupon_designation'])\n",
        "df_raw = pd.merge(df_raw, new_coupon_data, how='left', on='username')"
      ]
    },
    {
      "cell_type": "code",
      "execution_count": 5,
      "id": "d8964f4a",
      "metadata": {
        "id": "d8964f4a",
        "outputId": "f7959764-6886-40da-84a7-bc45ffa9bb86",
        "colab": {
          "base_uri": "https://localhost:8080/"
        }
      },
      "outputs": [
        {
          "output_type": "execute_result",
          "data": {
            "text/plain": [
              "(314731, 34)"
            ]
          },
          "metadata": {},
          "execution_count": 5
        }
      ],
      "source": [
        "df_raw.shape"
      ]
    },
    {
      "cell_type": "markdown",
      "id": "2b3f65f3",
      "metadata": {
        "id": "2b3f65f3"
      },
      "source": [
        "As discussed in my essay, we only take ftd users."
      ]
    },
    {
      "cell_type": "code",
      "execution_count": 6,
      "id": "f52cc0c0",
      "metadata": {
        "id": "f52cc0c0"
      },
      "outputs": [],
      "source": [
        "df_ftd_raw = df_raw[df_raw['is_ftd'] == True]"
      ]
    },
    {
      "cell_type": "markdown",
      "id": "13b3739d",
      "metadata": {
        "id": "13b3739d"
      },
      "source": [
        "Replace missing values with 0"
      ]
    },
    {
      "cell_type": "code",
      "execution_count": 7,
      "id": "d5464f65",
      "metadata": {
        "id": "d5464f65"
      },
      "outputs": [],
      "source": [
        "df_ftd_raw = df_ftd_raw.fillna(0)"
      ]
    },
    {
      "cell_type": "markdown",
      "id": "3083e42d",
      "metadata": {
        "id": "3083e42d"
      },
      "source": [
        "We decided to take those who had missing coupons to be classed as ``Unattirbuted\""
      ]
    },
    {
      "cell_type": "code",
      "execution_count": 8,
      "id": "97cc5db6",
      "metadata": {
        "id": "97cc5db6"
      },
      "outputs": [],
      "source": [
        "def change_to_unattributed(x):\n",
        "    if x == 0:\n",
        "        return \"Unattributed\"\n",
        "    else: return x"
      ]
    },
    {
      "cell_type": "code",
      "execution_count": 9,
      "id": "5e0c4277",
      "metadata": {
        "id": "5e0c4277"
      },
      "outputs": [],
      "source": [
        "df_ftd_raw['coupon_designation'] = df_ftd_raw['coupon_designation'].apply(lambda x: change_to_unattributed(x))"
      ]
    },
    {
      "cell_type": "code",
      "execution_count": 10,
      "id": "a5bea341",
      "metadata": {
        "id": "a5bea341",
        "outputId": "1a1a375f-39f0-44f2-9f8b-5bf28feb466e",
        "colab": {
          "base_uri": "https://localhost:8080/"
        }
      },
      "outputs": [
        {
          "output_type": "execute_result",
          "data": {
            "text/plain": [
              "coupon_designation\n",
              "Unattributed    48425\n",
              "Influencer      11684\n",
              "referral         9460\n",
              "Paid Digital     8619\n",
              "Programmatic     5199\n",
              "Facebook         4517\n",
              "Apple            1602\n",
              "Affiliate        1388\n",
              "TikTok            955\n",
              "Offline           399\n",
              "Name: count, dtype: int64"
            ]
          },
          "metadata": {},
          "execution_count": 10
        }
      ],
      "source": [
        "df_ftd_raw['coupon_designation'].value_counts()"
      ]
    },
    {
      "cell_type": "markdown",
      "id": "423620c2",
      "metadata": {
        "id": "423620c2"
      },
      "source": [
        "Store a copy of the raw data for analysis later"
      ]
    },
    {
      "cell_type": "code",
      "execution_count": 11,
      "id": "52d6ba47",
      "metadata": {
        "id": "52d6ba47"
      },
      "outputs": [],
      "source": [
        "df_ftd_pre_encoding = df_ftd_raw.copy()"
      ]
    },
    {
      "cell_type": "markdown",
      "id": "84a1be2f",
      "metadata": {
        "id": "84a1be2f"
      },
      "source": [
        "To increase the influence of the LTV and contest count, place these columns into bins."
      ]
    },
    {
      "cell_type": "code",
      "execution_count": 12,
      "id": "53a27ebf",
      "metadata": {
        "id": "53a27ebf"
      },
      "outputs": [],
      "source": [
        "ltv_bins = [-1000000, -0.1, 0, 25, 50, 100, 1000, 1000000]\n",
        "\n",
        "df_ftd_raw['ltv_binned'] = pd.cut(df_ftd_raw['net_cash'], ltv_bins)"
      ]
    },
    {
      "cell_type": "code",
      "execution_count": 13,
      "id": "b3d4e489",
      "metadata": {
        "id": "b3d4e489"
      },
      "outputs": [],
      "source": [
        "contest_count_bins = [-1, 0, 5, 10, 50, 100, 250, 100000]\n",
        "\n",
        "df_ftd_raw['contest_count_binned'] = pd.cut(df_ftd_raw['contest_count'], contest_count_bins)"
      ]
    },
    {
      "cell_type": "code",
      "execution_count": 14,
      "id": "8c946a07",
      "metadata": {
        "id": "8c946a07"
      },
      "outputs": [],
      "source": [
        "df_ftd_raw = df_ftd_raw.drop(columns = ['contest_count', 'net_cash'])"
      ]
    },
    {
      "cell_type": "markdown",
      "id": "28508da5",
      "metadata": {
        "id": "28508da5"
      },
      "source": [
        "Preprocess the data: removing superfluous colums, converting the categorical data to one hot encoding and normalising columns via the min max scaler."
      ]
    },
    {
      "cell_type": "code",
      "execution_count": 15,
      "id": "73ef02e0",
      "metadata": {
        "id": "73ef02e0"
      },
      "outputs": [],
      "source": [
        "def preprocessing(df_sub, df_ftd_pre_encoding):\n",
        "\n",
        "    # drop columns\n",
        "    cols2rem = ['id', 'is_ftd', 'username', 'dob', 'customer_id', 'experience_level', 'created_est', 'username_id_x',\n",
        "       'username_id_y', 'max_contest_created', 'max_pick_date_diff', 'av_pick_date_diff']\n",
        "\n",
        "    df = df_sub.drop(cols2rem, axis = 1)\n",
        "\n",
        "    df_ftd_pre_encoding = df_ftd_pre_encoding.drop(cols2rem, axis = 1)\n",
        "\n",
        "\n",
        "      # fill nans from non ftds\n",
        "    #df = df.fillna(0)\n",
        "\n",
        "    # encode the categorical data\n",
        "\n",
        "    df = pd.get_dummies(df, columns=cat_data, prefix=cat_data, dtype=int)\n",
        "\n",
        "    # normalise numerical data\n",
        "    num_data = df.columns[:20]\n",
        "\n",
        "    min_max = MinMaxScaler()\n",
        "    df[num_data] = min_max.fit_transform(df[num_data])\n",
        "    df = df.drop(columns=['depositAmount'])\n",
        "\n",
        "    return df, df_ftd_pre_encoding"
      ]
    },
    {
      "cell_type": "code",
      "execution_count": 16,
      "id": "7c9ecd44",
      "metadata": {
        "id": "7c9ecd44"
      },
      "outputs": [],
      "source": [
        "cat_data = ['is_limited', 'sign_up_time', 'result', 'coupon_designation', 'contest_count_binned', 'ltv_binned']\n",
        "\n",
        "\n",
        "df_ftd, df_ftd_pre_encoding  = preprocessing(df_ftd_raw, df_ftd_pre_encoding)"
      ]
    },
    {
      "cell_type": "code",
      "execution_count": 17,
      "id": "ee86f889",
      "metadata": {
        "id": "ee86f889",
        "outputId": "87eb1590-34ec-472e-fc29-89587911d4e4",
        "colab": {
          "base_uri": "https://localhost:8080/",
          "height": 273
        }
      },
      "outputs": [
        {
          "output_type": "execute_result",
          "data": {
            "text/plain": [
              "        age  num_referrals  num_insured  total_amount  average_entry_amount  \\\n",
              "1  0.058824       0.000000     0.000000      0.000188               0.03000   \n",
              "2  0.176471       0.233010     0.089087      0.040163               0.03348   \n",
              "4  0.058824       0.038835     0.000000      0.000000               0.00000   \n",
              "7  0.141176       0.194175     0.003712      0.005976               0.03228   \n",
              "8  0.105882       0.048544     0.005939      0.004520               0.06260   \n",
              "\n",
              "   average_nr_of_picks       GGR  withdrawalAmount  num_deposits  \\\n",
              "1             0.277778  0.504177          1.000000      0.002212   \n",
              "2             0.311111  0.522367          0.999026      0.030973   \n",
              "4             0.000000  0.504533          0.994806      0.172566   \n",
              "7             0.233333  0.507630          1.000000      0.017699   \n",
              "8             0.290000  0.505838          1.000000      0.008850   \n",
              "\n",
              "   av_deposit_amount  ...  contest_count_binned_(50, 100]  \\\n",
              "1           0.100000  ...                               0   \n",
              "2           0.037143  ...                               0   \n",
              "4           0.034872  ...                               0   \n",
              "7           0.037500  ...                               1   \n",
              "8           0.035000  ...                               0   \n",
              "\n",
              "   contest_count_binned_(100, 250]  contest_count_binned_(250, 100000]  \\\n",
              "1                                0                                   0   \n",
              "2                                0                                   1   \n",
              "4                                0                                   0   \n",
              "7                                0                                   0   \n",
              "8                                0                                   0   \n",
              "\n",
              "   ltv_binned_(-1000000.0, -0.1]  ltv_binned_(-0.1, 0.0]  \\\n",
              "1                              0                       0   \n",
              "2                              0                       0   \n",
              "4                              0                       0   \n",
              "7                              0                       0   \n",
              "8                              0                       0   \n",
              "\n",
              "   ltv_binned_(0.0, 25.0]  ltv_binned_(25.0, 50.0]  ltv_binned_(50.0, 100.0]  \\\n",
              "1                       1                        0                         0   \n",
              "2                       0                        0                         1   \n",
              "4                       0                        0                         0   \n",
              "7                       0                        0                         1   \n",
              "8                       0                        1                         0   \n",
              "\n",
              "   ltv_binned_(100.0, 1000.0]  ltv_binned_(1000.0, 1000000.0]  \n",
              "1                           0                               0  \n",
              "2                           0                               0  \n",
              "4                           1                               0  \n",
              "7                           0                               0  \n",
              "8                           0                               0  \n",
              "\n",
              "[5 rows x 49 columns]"
            ],
            "text/html": [
              "\n",
              "  <div id=\"df-3b03253b-4ed4-475c-8085-1540da12405e\" class=\"colab-df-container\">\n",
              "    <div>\n",
              "<style scoped>\n",
              "    .dataframe tbody tr th:only-of-type {\n",
              "        vertical-align: middle;\n",
              "    }\n",
              "\n",
              "    .dataframe tbody tr th {\n",
              "        vertical-align: top;\n",
              "    }\n",
              "\n",
              "    .dataframe thead th {\n",
              "        text-align: right;\n",
              "    }\n",
              "</style>\n",
              "<table border=\"1\" class=\"dataframe\">\n",
              "  <thead>\n",
              "    <tr style=\"text-align: right;\">\n",
              "      <th></th>\n",
              "      <th>age</th>\n",
              "      <th>num_referrals</th>\n",
              "      <th>num_insured</th>\n",
              "      <th>total_amount</th>\n",
              "      <th>average_entry_amount</th>\n",
              "      <th>average_nr_of_picks</th>\n",
              "      <th>GGR</th>\n",
              "      <th>withdrawalAmount</th>\n",
              "      <th>num_deposits</th>\n",
              "      <th>av_deposit_amount</th>\n",
              "      <th>...</th>\n",
              "      <th>contest_count_binned_(50, 100]</th>\n",
              "      <th>contest_count_binned_(100, 250]</th>\n",
              "      <th>contest_count_binned_(250, 100000]</th>\n",
              "      <th>ltv_binned_(-1000000.0, -0.1]</th>\n",
              "      <th>ltv_binned_(-0.1, 0.0]</th>\n",
              "      <th>ltv_binned_(0.0, 25.0]</th>\n",
              "      <th>ltv_binned_(25.0, 50.0]</th>\n",
              "      <th>ltv_binned_(50.0, 100.0]</th>\n",
              "      <th>ltv_binned_(100.0, 1000.0]</th>\n",
              "      <th>ltv_binned_(1000.0, 1000000.0]</th>\n",
              "    </tr>\n",
              "  </thead>\n",
              "  <tbody>\n",
              "    <tr>\n",
              "      <th>1</th>\n",
              "      <td>0.058824</td>\n",
              "      <td>0.000000</td>\n",
              "      <td>0.000000</td>\n",
              "      <td>0.000188</td>\n",
              "      <td>0.03000</td>\n",
              "      <td>0.277778</td>\n",
              "      <td>0.504177</td>\n",
              "      <td>1.000000</td>\n",
              "      <td>0.002212</td>\n",
              "      <td>0.100000</td>\n",
              "      <td>...</td>\n",
              "      <td>0</td>\n",
              "      <td>0</td>\n",
              "      <td>0</td>\n",
              "      <td>0</td>\n",
              "      <td>0</td>\n",
              "      <td>1</td>\n",
              "      <td>0</td>\n",
              "      <td>0</td>\n",
              "      <td>0</td>\n",
              "      <td>0</td>\n",
              "    </tr>\n",
              "    <tr>\n",
              "      <th>2</th>\n",
              "      <td>0.176471</td>\n",
              "      <td>0.233010</td>\n",
              "      <td>0.089087</td>\n",
              "      <td>0.040163</td>\n",
              "      <td>0.03348</td>\n",
              "      <td>0.311111</td>\n",
              "      <td>0.522367</td>\n",
              "      <td>0.999026</td>\n",
              "      <td>0.030973</td>\n",
              "      <td>0.037143</td>\n",
              "      <td>...</td>\n",
              "      <td>0</td>\n",
              "      <td>0</td>\n",
              "      <td>1</td>\n",
              "      <td>0</td>\n",
              "      <td>0</td>\n",
              "      <td>0</td>\n",
              "      <td>0</td>\n",
              "      <td>1</td>\n",
              "      <td>0</td>\n",
              "      <td>0</td>\n",
              "    </tr>\n",
              "    <tr>\n",
              "      <th>4</th>\n",
              "      <td>0.058824</td>\n",
              "      <td>0.038835</td>\n",
              "      <td>0.000000</td>\n",
              "      <td>0.000000</td>\n",
              "      <td>0.00000</td>\n",
              "      <td>0.000000</td>\n",
              "      <td>0.504533</td>\n",
              "      <td>0.994806</td>\n",
              "      <td>0.172566</td>\n",
              "      <td>0.034872</td>\n",
              "      <td>...</td>\n",
              "      <td>0</td>\n",
              "      <td>0</td>\n",
              "      <td>0</td>\n",
              "      <td>0</td>\n",
              "      <td>0</td>\n",
              "      <td>0</td>\n",
              "      <td>0</td>\n",
              "      <td>0</td>\n",
              "      <td>1</td>\n",
              "      <td>0</td>\n",
              "    </tr>\n",
              "    <tr>\n",
              "      <th>7</th>\n",
              "      <td>0.141176</td>\n",
              "      <td>0.194175</td>\n",
              "      <td>0.003712</td>\n",
              "      <td>0.005976</td>\n",
              "      <td>0.03228</td>\n",
              "      <td>0.233333</td>\n",
              "      <td>0.507630</td>\n",
              "      <td>1.000000</td>\n",
              "      <td>0.017699</td>\n",
              "      <td>0.037500</td>\n",
              "      <td>...</td>\n",
              "      <td>1</td>\n",
              "      <td>0</td>\n",
              "      <td>0</td>\n",
              "      <td>0</td>\n",
              "      <td>0</td>\n",
              "      <td>0</td>\n",
              "      <td>0</td>\n",
              "      <td>1</td>\n",
              "      <td>0</td>\n",
              "      <td>0</td>\n",
              "    </tr>\n",
              "    <tr>\n",
              "      <th>8</th>\n",
              "      <td>0.105882</td>\n",
              "      <td>0.048544</td>\n",
              "      <td>0.005939</td>\n",
              "      <td>0.004520</td>\n",
              "      <td>0.06260</td>\n",
              "      <td>0.290000</td>\n",
              "      <td>0.505838</td>\n",
              "      <td>1.000000</td>\n",
              "      <td>0.008850</td>\n",
              "      <td>0.035000</td>\n",
              "      <td>...</td>\n",
              "      <td>0</td>\n",
              "      <td>0</td>\n",
              "      <td>0</td>\n",
              "      <td>0</td>\n",
              "      <td>0</td>\n",
              "      <td>0</td>\n",
              "      <td>1</td>\n",
              "      <td>0</td>\n",
              "      <td>0</td>\n",
              "      <td>0</td>\n",
              "    </tr>\n",
              "  </tbody>\n",
              "</table>\n",
              "<p>5 rows × 49 columns</p>\n",
              "</div>\n",
              "    <div class=\"colab-df-buttons\">\n",
              "\n",
              "  <div class=\"colab-df-container\">\n",
              "    <button class=\"colab-df-convert\" onclick=\"convertToInteractive('df-3b03253b-4ed4-475c-8085-1540da12405e')\"\n",
              "            title=\"Convert this dataframe to an interactive table.\"\n",
              "            style=\"display:none;\">\n",
              "\n",
              "  <svg xmlns=\"http://www.w3.org/2000/svg\" height=\"24px\" viewBox=\"0 -960 960 960\">\n",
              "    <path d=\"M120-120v-720h720v720H120Zm60-500h600v-160H180v160Zm220 220h160v-160H400v160Zm0 220h160v-160H400v160ZM180-400h160v-160H180v160Zm440 0h160v-160H620v160ZM180-180h160v-160H180v160Zm440 0h160v-160H620v160Z\"/>\n",
              "  </svg>\n",
              "    </button>\n",
              "\n",
              "  <style>\n",
              "    .colab-df-container {\n",
              "      display:flex;\n",
              "      gap: 12px;\n",
              "    }\n",
              "\n",
              "    .colab-df-convert {\n",
              "      background-color: #E8F0FE;\n",
              "      border: none;\n",
              "      border-radius: 50%;\n",
              "      cursor: pointer;\n",
              "      display: none;\n",
              "      fill: #1967D2;\n",
              "      height: 32px;\n",
              "      padding: 0 0 0 0;\n",
              "      width: 32px;\n",
              "    }\n",
              "\n",
              "    .colab-df-convert:hover {\n",
              "      background-color: #E2EBFA;\n",
              "      box-shadow: 0px 1px 2px rgba(60, 64, 67, 0.3), 0px 1px 3px 1px rgba(60, 64, 67, 0.15);\n",
              "      fill: #174EA6;\n",
              "    }\n",
              "\n",
              "    .colab-df-buttons div {\n",
              "      margin-bottom: 4px;\n",
              "    }\n",
              "\n",
              "    [theme=dark] .colab-df-convert {\n",
              "      background-color: #3B4455;\n",
              "      fill: #D2E3FC;\n",
              "    }\n",
              "\n",
              "    [theme=dark] .colab-df-convert:hover {\n",
              "      background-color: #434B5C;\n",
              "      box-shadow: 0px 1px 3px 1px rgba(0, 0, 0, 0.15);\n",
              "      filter: drop-shadow(0px 1px 2px rgba(0, 0, 0, 0.3));\n",
              "      fill: #FFFFFF;\n",
              "    }\n",
              "  </style>\n",
              "\n",
              "    <script>\n",
              "      const buttonEl =\n",
              "        document.querySelector('#df-3b03253b-4ed4-475c-8085-1540da12405e button.colab-df-convert');\n",
              "      buttonEl.style.display =\n",
              "        google.colab.kernel.accessAllowed ? 'block' : 'none';\n",
              "\n",
              "      async function convertToInteractive(key) {\n",
              "        const element = document.querySelector('#df-3b03253b-4ed4-475c-8085-1540da12405e');\n",
              "        const dataTable =\n",
              "          await google.colab.kernel.invokeFunction('convertToInteractive',\n",
              "                                                    [key], {});\n",
              "        if (!dataTable) return;\n",
              "\n",
              "        const docLinkHtml = 'Like what you see? Visit the ' +\n",
              "          '<a target=\"_blank\" href=https://colab.research.google.com/notebooks/data_table.ipynb>data table notebook</a>'\n",
              "          + ' to learn more about interactive tables.';\n",
              "        element.innerHTML = '';\n",
              "        dataTable['output_type'] = 'display_data';\n",
              "        await google.colab.output.renderOutput(dataTable, element);\n",
              "        const docLink = document.createElement('div');\n",
              "        docLink.innerHTML = docLinkHtml;\n",
              "        element.appendChild(docLink);\n",
              "      }\n",
              "    </script>\n",
              "  </div>\n",
              "\n",
              "\n",
              "<div id=\"df-2e5a2b76-0b8d-44fe-bef8-046b7459ed6a\">\n",
              "  <button class=\"colab-df-quickchart\" onclick=\"quickchart('df-2e5a2b76-0b8d-44fe-bef8-046b7459ed6a')\"\n",
              "            title=\"Suggest charts\"\n",
              "            style=\"display:none;\">\n",
              "\n",
              "<svg xmlns=\"http://www.w3.org/2000/svg\" height=\"24px\"viewBox=\"0 0 24 24\"\n",
              "     width=\"24px\">\n",
              "    <g>\n",
              "        <path d=\"M19 3H5c-1.1 0-2 .9-2 2v14c0 1.1.9 2 2 2h14c1.1 0 2-.9 2-2V5c0-1.1-.9-2-2-2zM9 17H7v-7h2v7zm4 0h-2V7h2v10zm4 0h-2v-4h2v4z\"/>\n",
              "    </g>\n",
              "</svg>\n",
              "  </button>\n",
              "\n",
              "<style>\n",
              "  .colab-df-quickchart {\n",
              "      --bg-color: #E8F0FE;\n",
              "      --fill-color: #1967D2;\n",
              "      --hover-bg-color: #E2EBFA;\n",
              "      --hover-fill-color: #174EA6;\n",
              "      --disabled-fill-color: #AAA;\n",
              "      --disabled-bg-color: #DDD;\n",
              "  }\n",
              "\n",
              "  [theme=dark] .colab-df-quickchart {\n",
              "      --bg-color: #3B4455;\n",
              "      --fill-color: #D2E3FC;\n",
              "      --hover-bg-color: #434B5C;\n",
              "      --hover-fill-color: #FFFFFF;\n",
              "      --disabled-bg-color: #3B4455;\n",
              "      --disabled-fill-color: #666;\n",
              "  }\n",
              "\n",
              "  .colab-df-quickchart {\n",
              "    background-color: var(--bg-color);\n",
              "    border: none;\n",
              "    border-radius: 50%;\n",
              "    cursor: pointer;\n",
              "    display: none;\n",
              "    fill: var(--fill-color);\n",
              "    height: 32px;\n",
              "    padding: 0;\n",
              "    width: 32px;\n",
              "  }\n",
              "\n",
              "  .colab-df-quickchart:hover {\n",
              "    background-color: var(--hover-bg-color);\n",
              "    box-shadow: 0 1px 2px rgba(60, 64, 67, 0.3), 0 1px 3px 1px rgba(60, 64, 67, 0.15);\n",
              "    fill: var(--button-hover-fill-color);\n",
              "  }\n",
              "\n",
              "  .colab-df-quickchart-complete:disabled,\n",
              "  .colab-df-quickchart-complete:disabled:hover {\n",
              "    background-color: var(--disabled-bg-color);\n",
              "    fill: var(--disabled-fill-color);\n",
              "    box-shadow: none;\n",
              "  }\n",
              "\n",
              "  .colab-df-spinner {\n",
              "    border: 2px solid var(--fill-color);\n",
              "    border-color: transparent;\n",
              "    border-bottom-color: var(--fill-color);\n",
              "    animation:\n",
              "      spin 1s steps(1) infinite;\n",
              "  }\n",
              "\n",
              "  @keyframes spin {\n",
              "    0% {\n",
              "      border-color: transparent;\n",
              "      border-bottom-color: var(--fill-color);\n",
              "      border-left-color: var(--fill-color);\n",
              "    }\n",
              "    20% {\n",
              "      border-color: transparent;\n",
              "      border-left-color: var(--fill-color);\n",
              "      border-top-color: var(--fill-color);\n",
              "    }\n",
              "    30% {\n",
              "      border-color: transparent;\n",
              "      border-left-color: var(--fill-color);\n",
              "      border-top-color: var(--fill-color);\n",
              "      border-right-color: var(--fill-color);\n",
              "    }\n",
              "    40% {\n",
              "      border-color: transparent;\n",
              "      border-right-color: var(--fill-color);\n",
              "      border-top-color: var(--fill-color);\n",
              "    }\n",
              "    60% {\n",
              "      border-color: transparent;\n",
              "      border-right-color: var(--fill-color);\n",
              "    }\n",
              "    80% {\n",
              "      border-color: transparent;\n",
              "      border-right-color: var(--fill-color);\n",
              "      border-bottom-color: var(--fill-color);\n",
              "    }\n",
              "    90% {\n",
              "      border-color: transparent;\n",
              "      border-bottom-color: var(--fill-color);\n",
              "    }\n",
              "  }\n",
              "</style>\n",
              "\n",
              "  <script>\n",
              "    async function quickchart(key) {\n",
              "      const quickchartButtonEl =\n",
              "        document.querySelector('#' + key + ' button');\n",
              "      quickchartButtonEl.disabled = true;  // To prevent multiple clicks.\n",
              "      quickchartButtonEl.classList.add('colab-df-spinner');\n",
              "      try {\n",
              "        const charts = await google.colab.kernel.invokeFunction(\n",
              "            'suggestCharts', [key], {});\n",
              "      } catch (error) {\n",
              "        console.error('Error during call to suggestCharts:', error);\n",
              "      }\n",
              "      quickchartButtonEl.classList.remove('colab-df-spinner');\n",
              "      quickchartButtonEl.classList.add('colab-df-quickchart-complete');\n",
              "    }\n",
              "    (() => {\n",
              "      let quickchartButtonEl =\n",
              "        document.querySelector('#df-2e5a2b76-0b8d-44fe-bef8-046b7459ed6a button');\n",
              "      quickchartButtonEl.style.display =\n",
              "        google.colab.kernel.accessAllowed ? 'block' : 'none';\n",
              "    })();\n",
              "  </script>\n",
              "</div>\n",
              "    </div>\n",
              "  </div>\n"
            ],
            "application/vnd.google.colaboratory.intrinsic+json": {
              "type": "dataframe",
              "variable_name": "df_ftd"
            }
          },
          "metadata": {},
          "execution_count": 17
        }
      ],
      "source": [
        "df_ftd.head()"
      ]
    },
    {
      "cell_type": "code",
      "execution_count": 18,
      "id": "80a3241d",
      "metadata": {
        "id": "80a3241d"
      },
      "outputs": [],
      "source": [
        "df_ftd = df_ftd.fillna(0)"
      ]
    },
    {
      "cell_type": "code",
      "execution_count": 19,
      "id": "50888a9e",
      "metadata": {
        "id": "50888a9e",
        "outputId": "bc387fed-655e-457c-b6e5-2f430daf5ab4",
        "colab": {
          "base_uri": "https://localhost:8080/"
        }
      },
      "outputs": [
        {
          "output_type": "execute_result",
          "data": {
            "text/plain": [
              "(92248, 49)"
            ]
          },
          "metadata": {},
          "execution_count": 19
        }
      ],
      "source": [
        "df_ftd.shape"
      ]
    },
    {
      "cell_type": "markdown",
      "id": "468fc91e",
      "metadata": {
        "id": "468fc91e"
      },
      "source": [
        "## Establishing Num Principal Compenents and the Most influential Columns of Each PC"
      ]
    },
    {
      "cell_type": "markdown",
      "id": "ae57fdcc",
      "metadata": {
        "id": "ae57fdcc"
      },
      "source": [
        "Due to one hot encoding the categorical data, the dimensionality will need to be reduced. The essay discusses multiple methods for this and here we implement PCA reduction, analysing the principal components."
      ]
    },
    {
      "cell_type": "code",
      "execution_count": null,
      "id": "73eb2d9a",
      "metadata": {
        "id": "73eb2d9a",
        "outputId": "d7fbe9ff-7261-40fc-a698-8dd23323d5e6"
      },
      "outputs": [
        {
          "name": "stdout",
          "output_type": "stream",
          "text": [
            "Explained Variance for Number of Dimensions: \n",
            "           0\n",
            "0   0.164718\n",
            "1   0.096030\n",
            "2   0.091317\n",
            "3   0.082167\n",
            "4   0.073470\n",
            "5   0.064511\n",
            "6   0.053786\n",
            "7   0.043417\n",
            "8   0.038823\n",
            "9   0.034677\n",
            "10  0.032585\n",
            "11  0.031571\n",
            "12  0.029914\n",
            "13  0.025987\n",
            "14  0.023094\n",
            "\n",
            "Sum of variance for first 10 dimensions: \n",
            "0.7429157679138819\n",
            "\n",
            "Each PC's top 3 most influential columns: \n",
            "                                                                                            0\n",
            "0                                       [result_0, contest_count_binned_(-1, 0], result_lost]\n",
            "1                         [contest_count_binned_(10, 50], ltv_binned_(0.0, 25.0], result_won]\n",
            "2                        [sign_up_time_afternoon, sign_up_time_evening, sign_up_time_morning]\n",
            "3                                  [coupon_designation_Unattributed, result_won, result_lost]\n",
            "4                       [coupon_designation_Unattributed, ltv_binned_(0.0, 25.0], result_won]\n",
            "5                        [sign_up_time_morning, sign_up_time_evening, sign_up_time_afternoon]\n",
            "6       [contest_count_binned_(5, 10], contest_count_binned_(10, 50], ltv_binned_(0.0, 25.0]]\n",
            "7  [contest_count_binned_(0, 5], ltv_binned_(-1000000.0, -0.1], contest_count_binned_(5, 10]]\n",
            "8       [ltv_binned_(-1000000.0, -0.1], ltv_binned_(100.0, 1000.0], ltv_binned_(50.0, 100.0]]\n",
            "9         [ltv_binned_(50.0, 100.0], ltv_binned_(100.0, 1000.0], contest_count_binned_(0, 5]]\n"
          ]
        }
      ],
      "source": [
        "pca = PCA(n_components=15)\n",
        "pca.fit(df_ftd)\n",
        "explained_variance = pd.DataFrame(pca.explained_variance_ratio_)\n",
        "print(\"Explained Variance for Number of Dimensions: \")\n",
        "print(explained_variance)\n",
        "print(\"\\nSum of variance for first 10 dimensions: \")\n",
        "print(explained_variance[:10].sum()[0])\n",
        "\n",
        "column_influence = pd.DataFrame(pca.components_, columns = df_ftd.columns)\n",
        "top_3_cols = pd.DataFrame(column_influence.apply(lambda x: x.abs().nlargest(3).index.tolist(), axis=1))\n",
        "print(\"\\nEach PC's top 3 most influential columns: \")\n",
        "print(top_3_cols.head(10).to_string())"
      ]
    },
    {
      "cell_type": "markdown",
      "id": "775885a0",
      "metadata": {
        "id": "775885a0"
      },
      "source": [
        "## Find Number of Clusters"
      ]
    },
    {
      "cell_type": "markdown",
      "id": "cecde5f7",
      "metadata": {
        "id": "cecde5f7"
      },
      "source": [
        "To find the number of clusters, we analyse the inertia for different values of K. As discussed in the essay, we take the value of K to be the flattening of the curve (known as the \"Elbow Method\")."
      ]
    },
    {
      "cell_type": "code",
      "execution_count": null,
      "id": "12b5d181",
      "metadata": {
        "id": "12b5d181"
      },
      "outputs": [],
      "source": [
        "def find_num_clusters(df, start, end, is_constrained = False):\n",
        "    cluster_inertia = []\n",
        "\n",
        "    for i in range(int(start),int(end)):\n",
        "\n",
        "        if is_constrained == False:\n",
        "            kmeans = KMeans(n_clusters=i, n_init=10, random_state=0)\n",
        "        else:\n",
        "            kmeans = KMeansConstrained(n_clusters=i, size_min=200, n_init=10, random_state=0)\n",
        "\n",
        "        kmeans.fit(df)\n",
        "        cluster_inertia.append(kmeans.inertia_)\n",
        "\n",
        "\n",
        "    plt.plot(range(int(start),int(end)), cluster_inertia)\n",
        "    plt.ylabel(\"Metric for Effectiveness Clustering\")\n",
        "    plt.xlabel(\"Number of Clusters\")\n",
        "    plt.title(\"Change in Effectiveness of Clustering Based on Number of Clusters\")\n",
        "    plt.show()"
      ]
    },
    {
      "cell_type": "markdown",
      "id": "c1c72fac",
      "metadata": {
        "id": "c1c72fac"
      },
      "source": [
        "To find the value for K of the normal KMeans:"
      ]
    },
    {
      "cell_type": "code",
      "execution_count": null,
      "id": "7034cf08",
      "metadata": {
        "id": "7034cf08",
        "outputId": "a66fb21f-4c50-4215-f98c-d0ec854c5383"
      },
      "outputs": [
        {
          "data": {
            "image/png": "[encoded data removed]",
            "text/plain": [
              "<Figure size 640x480 with 1 Axes>"
            ]
          },
          "metadata": {},
          "output_type": "display_data"
        }
      ],
      "source": [
        "find_num_clusters(df_ftd, 1, 30, is_constrained = False)"
      ]
    },
    {
      "cell_type": "markdown",
      "id": "1f0a51e1",
      "metadata": {
        "id": "1f0a51e1"
      },
      "source": [
        "To find the value of K for the Constrained KMeans:"
      ]
    },
    {
      "cell_type": "code",
      "execution_count": null,
      "id": "5422479c",
      "metadata": {
        "id": "5422479c",
        "outputId": "cbfc646d-f0e4-4ff5-8ba5-1868dbb9b6c6"
      },
      "outputs": [
        {
          "data": {
            "image/png": "[encoded data removed]",
            "text/plain": [
              "<Figure size 640x480 with 1 Axes>"
            ]
          },
          "metadata": {},
          "output_type": "display_data"
        }
      ],
      "source": [
        "find_num_clusters(df_ftd, 1, 30, is_constrained = True)"
      ]
    },
    {
      "cell_type": "markdown",
      "id": "2e7e3ec4",
      "metadata": {
        "id": "2e7e3ec4"
      },
      "source": [
        "<a id=\"3\"></a>\n",
        "\n",
        "## Split Data into Batches"
      ]
    },
    {
      "cell_type": "markdown",
      "id": "5323ae8c",
      "metadata": {
        "id": "5323ae8c"
      },
      "source": [
        "In order to use deep learning methods, we need to split our data into different batches. Due to the size of our data, we chose a batch size of 64 to sufficiently update parameters per batch without significantly impacting running time."
      ]
    },
    {
      "cell_type": "code",
      "execution_count": 20,
      "id": "ac4a96c6",
      "metadata": {
        "id": "ac4a96c6"
      },
      "outputs": [],
      "source": [
        "batch_size = 64"
      ]
    },
    {
      "cell_type": "code",
      "execution_count": 21,
      "id": "dd20b016",
      "metadata": {
        "id": "dd20b016"
      },
      "outputs": [],
      "source": [
        "def prepare_data(df_ftd):\n",
        "    train_batches = []\n",
        "    validation = []\n",
        "    test = []\n",
        "\n",
        "    X_train, X_val, y_train, y_val = train_test_split(df_ftd, df_ftd, test_size=0.2, random_state=42)\n",
        "\n",
        "    X_test, X_val, y_test, y_val = train_test_split(X_val, y_val, test_size=0.5, random_state=42)\n",
        "\n",
        "    for i in range(0, len(X_train), batch_size):\n",
        "        train_batches.append((X_train[i:i+batch_size, :].astype(np.float32), y_train[i:i+batch_size, :].astype(np.float32)))\n",
        "\n",
        "    for i in range(len(X_val)):\n",
        "        validation.append((X_val[i, :].astype(np.float32), y_val[i,:].astype(np.float32)))\n",
        "\n",
        "    for i in range(len(X_test)):\n",
        "        test.append((X_test[i, :].astype(np.float32), y_test[i,:].astype(np.float32)))\n",
        "\n",
        "\n",
        "    return train_batches, validation, test"
      ]
    },
    {
      "cell_type": "code",
      "execution_count": 22,
      "id": "1e4290f5",
      "metadata": {
        "id": "1e4290f5"
      },
      "outputs": [],
      "source": [
        "initial_train_batches, initial_val, initial_test = prepare_data(np.array(df_ftd))"
      ]
    },
    {
      "cell_type": "code",
      "execution_count": 23,
      "id": "4d27e852",
      "metadata": {
        "id": "4d27e852",
        "outputId": "d6c02d2e-fe10-4602-d21f-b15c6220a939",
        "colab": {
          "base_uri": "https://localhost:8080/"
        }
      },
      "outputs": [
        {
          "output_type": "execute_result",
          "data": {
            "text/plain": [
              "(64, 49)"
            ]
          },
          "metadata": {},
          "execution_count": 23
        }
      ],
      "source": [
        "initial_train_batches[1][1].shape"
      ]
    },
    {
      "cell_type": "markdown",
      "id": "db3776bd",
      "metadata": {
        "id": "db3776bd"
      },
      "source": [
        "## Pre-Training Loop"
      ]
    },
    {
      "cell_type": "markdown",
      "id": "e26e3984",
      "metadata": {
        "id": "e26e3984"
      },
      "source": [
        "To reduce over-fitting and improve the model's learning, the batches are shuffled both within batches and between batches."
      ]
    },
    {
      "cell_type": "code",
      "execution_count": 24,
      "id": "ff8de21c",
      "metadata": {
        "id": "ff8de21c"
      },
      "outputs": [],
      "source": [
        "def shuffle(x):\n",
        "    random.shuffle(x)\n",
        "    for i, j in x:\n",
        "        k = list(zip(i, j))\n",
        "        random.shuffle(k)\n",
        "        i, j = zip(*k)\n",
        "    return x"
      ]
    },
    {
      "cell_type": "markdown",
      "id": "78f70acf",
      "metadata": {
        "id": "78f70acf"
      },
      "source": [
        "We define our first training loop here responsible for pre-training the auto-encoder. We use MSE loss and Adam optimiser with an initial learning rate of 0.001. We also add delayed early stopping to help prevent overfitting. Specifically, after 10 epochs we see if the validation loss has decreased less than a threshold $\\epsilon$ of the original validation loss. We return the training and validation loss."
      ]
    },
    {
      "cell_type": "code",
      "source": [
        "device = torch.device(\"cuda:0\" if torch.cuda.is_available() else \"cpu\")"
      ],
      "metadata": {
        "id": "Xjs_fRndq_V4"
      },
      "id": "Xjs_fRndq_V4",
      "execution_count": 25,
      "outputs": []
    },
    {
      "cell_type": "code",
      "source": [
        "device"
      ],
      "metadata": {
        "colab": {
          "base_uri": "https://localhost:8080/"
        },
        "id": "Q3vHwa7ZrB1B",
        "outputId": "f78ecb71-7119-4a02-8c76-a9dd613048d8"
      },
      "id": "Q3vHwa7ZrB1B",
      "execution_count": 26,
      "outputs": [
        {
          "output_type": "execute_result",
          "data": {
            "text/plain": [
              "device(type='cuda', index=0)"
            ]
          },
          "metadata": {},
          "execution_count": 26
        }
      ]
    },
    {
      "cell_type": "code",
      "source": [
        "import time"
      ],
      "metadata": {
        "id": "LmOu0i6SrUMg"
      },
      "id": "LmOu0i6SrUMg",
      "execution_count": 27,
      "outputs": []
    },
    {
      "cell_type": "code",
      "source": [
        "from torch.utils.data import DataLoader, TensorDataset"
      ],
      "metadata": {
        "id": "uEZjnkWvQHif"
      },
      "id": "uEZjnkWvQHif",
      "execution_count": 28,
      "outputs": []
    },
    {
      "cell_type": "code",
      "source": [
        "gpu_initial_train_batches = []\n",
        "\n",
        "for i in initial_train_batches:\n",
        "  if i[0].shape[0] == 64:\n",
        "    gpu_initial_train_batches.append(i)"
      ],
      "metadata": {
        "id": "iLpQkM1pRg2f"
      },
      "id": "iLpQkM1pRg2f",
      "execution_count": 29,
      "outputs": []
    },
    {
      "cell_type": "code",
      "source": [
        "train_loader = DataLoader(gpu_initial_train_batches, batch_size=batch_size, shuffle=True)\n",
        "val_loader = DataLoader(initial_val, batch_size=batch_size, shuffle=True)\n",
        "test_loader = DataLoader(initial_test, batch_size=batch_size, shuffle=True)\n",
        "\n"
      ],
      "metadata": {
        "id": "ZDUurU-BQKq9"
      },
      "id": "ZDUurU-BQKq9",
      "execution_count": 30,
      "outputs": []
    },
    {
      "cell_type": "code",
      "execution_count": 71,
      "id": "d3c71c6d",
      "metadata": {
        "id": "d3c71c6d"
      },
      "outputs": [],
      "source": [
        "def training_loop_non_KL(num_epochs, model, input_data_train, input_data_validation, input_data_test, eps):\n",
        "\n",
        "    learning_rate = 0.001\n",
        "    loss_function = nn.MSELoss()\n",
        "    optimizer = optim.Adam(model.parameters(), lr=learning_rate)\n",
        "\n",
        "    training_loss = []\n",
        "    validation_loss = []\n",
        "    av_time = []\n",
        "\n",
        "    for epoch in range(num_epochs):\n",
        "        start = time.time()\n",
        "        running_loss = 0.0\n",
        "\n",
        "        model.train()\n",
        "\n",
        "        batch_latent_space_train = []\n",
        "        batch_output_train = []\n",
        "\n",
        "        for X, y_true in train_loader:\n",
        "\n",
        "            optimizer.zero_grad()\n",
        "\n",
        "            X = X.to(torch.float32).to(device)\n",
        "\n",
        "\n",
        "            y_pred, latent_space_train = model(X)\n",
        "\n",
        "\n",
        "\n",
        "            y_true = y_true.to(torch.float32).to(device)\n",
        "\n",
        "            loss = loss_function(y_pred, y_true)\n",
        "\n",
        "\n",
        "\n",
        "            loss.backward()\n",
        "            optimizer.step()\n",
        "\n",
        "            running_loss += loss.item()\n",
        "\n",
        "            batch_latent_space_train.append(latent_space_train)\n",
        "            batch_output_train.append(y_pred)\n",
        "\n",
        "        average_loss = running_loss / len(input_data_train)\n",
        "        #print(f\"Epoch {epoch + 1}/{num_epochs}, Loss: {average_loss}\")\n",
        "        training_loss.append(average_loss)\n",
        "\n",
        "        # Validation loop\n",
        "        model.eval()  # Set the model to evaluation mode\n",
        "        val_loss = 0.0\n",
        "        with torch.no_grad():\n",
        "\n",
        "            batch_latent_space_val = []\n",
        "            batch_output_val = []\n",
        "\n",
        "            for X_val, y_true_val in val_loader:\n",
        "\n",
        "                X_val = X_val.to(torch.float32).to(device)\n",
        "\n",
        "                y_pred_val, latent_space_validation = model(X_val)\n",
        "\n",
        "                y_true_val = y_true_val.to(torch.float32).to(device)\n",
        "\n",
        "                loss = loss_function(y_pred_val, y_true_val)\n",
        "                val_loss += loss.item()\n",
        "\n",
        "                batch_latent_space_val.append(latent_space_validation)\n",
        "                batch_output_val.append(y_pred_val)\n",
        "\n",
        "\n",
        "        # Print the validation loss for the epoch.\n",
        "        average_val_loss = val_loss / len(input_data_validation)\n",
        "        #print(f\"Validation Loss: {average_val_loss} \\n\")\n",
        "        validation_loss.append(average_val_loss)\n",
        "\n",
        "        if epoch == 0:\n",
        "            min_dev_loss = average_val_loss\n",
        "            dev_loss_counter = 0\n",
        "            model_store = copy.deepcopy(model)\n",
        "        else:\n",
        "            if epoch > 10:\n",
        "                if average_val_loss > min_dev_loss * (1 - eps):\n",
        "                    dev_loss_counter += 1\n",
        "                    if dev_loss_counter > 5:\n",
        "\n",
        "                        #print(\"Early Stopping\")\n",
        "                        model = model_store\n",
        "                        break\n",
        "                else:\n",
        "\n",
        "                    min_dev_loss = average_val_loss\n",
        "                    dev_loss_counter = 0\n",
        "        end = time.time()\n",
        "        av_time.append((end - start))\n",
        "\n",
        "\n",
        "    # Testing loop\n",
        "    model.eval()  # Set the model to evaluation mode\n",
        "    test_loss = 0.0\n",
        "    with torch.no_grad():\n",
        "\n",
        "        batch_latent_space_test = []\n",
        "        batch_output_test = []\n",
        "\n",
        "        for X_test, y_true_test in test_loader:\n",
        "\n",
        "            X_test = X_test.to(torch.float32).to(device)\n",
        "\n",
        "            y_pred_test, latent_space_test = model(X_test)\n",
        "\n",
        "            y_true_test = y_true_test.to(torch.float32).to(device)\n",
        "\n",
        "            loss = loss_function(y_pred_test, y_true_test)\n",
        "\n",
        "            test_loss += loss.item()\n",
        "\n",
        "            batch_latent_space_test.append(latent_space_test)\n",
        "            batch_output_test.append(y_pred_test)\n",
        "\n",
        "\n",
        "    # Print the average test loss\n",
        "    average_test_loss = test_loss / len(input_data_test)\n",
        "    #print(f\"Average Test Loss: {average_test_loss}\")\n",
        "    print(\"time taken: \", np.mean(av_time))\n",
        "\n",
        "    return training_loss, validation_loss"
      ]
    },
    {
      "cell_type": "markdown",
      "id": "5855e525",
      "metadata": {
        "id": "5855e525"
      },
      "source": [
        "## AE"
      ]
    },
    {
      "cell_type": "markdown",
      "id": "3a8ebe0d",
      "metadata": {
        "id": "3a8ebe0d"
      },
      "source": [
        "We define our Auto-Encoder. We have one encoding layer and one decoding layer. Various more complicated models were explored, including adding more layers and activation functions, but for speed and efficacy we found that keeping it simple worked well."
      ]
    },
    {
      "cell_type": "code",
      "execution_count": 32,
      "id": "88a66003",
      "metadata": {
        "id": "88a66003"
      },
      "outputs": [],
      "source": [
        "class linear_AE(nn.Module):\n",
        "\n",
        "    def __init__(self, embedding_size, latent_size):\n",
        "        super(linear_AE, self).__init__()\n",
        "\n",
        "        self.encode_linear_1 = nn.Linear(embedding_size, latent_size)\n",
        "        self.decode_linear_1 = nn.Linear(latent_size, embedding_size)\n",
        "\n",
        "    def encode(self, X):\n",
        "        encoded_X = self.encode_linear_1(X)\n",
        "        return encoded_X\n",
        "\n",
        "    def decode(self, X):\n",
        "        decoded_X = self.decode_linear_1(X)\n",
        "        return decoded_X\n",
        "\n",
        "    def forward(self, X):\n",
        "        latent_layer = self.encode(X)\n",
        "        output = self.decode(latent_layer)\n",
        "        return output, latent_layer"
      ]
    },
    {
      "cell_type": "code",
      "execution_count": 33,
      "id": "f16768ef",
      "metadata": {
        "id": "f16768ef"
      },
      "outputs": [],
      "source": [
        "class deep_AE(nn.Module):\n",
        "\n",
        "    def __init__(self, embedding_size, latent_size, dropout):\n",
        "        super(deep_AE, self).__init__()\n",
        "\n",
        "        self.encode_linear_1 = nn.Linear(embedding_size, embedding_size)\n",
        "        self.encode_linear_2 = nn.Linear(embedding_size, latent_size)\n",
        "\n",
        "        self.decode_linear_2 = nn.Linear(latent_size, embedding_size)\n",
        "        self.decode_linear_1 = nn.Linear(embedding_size, embedding_size)\n",
        "\n",
        "        self.dropout = nn.Dropout(dropout)\n",
        "        self.relu = nn.ReLU()\n",
        "\n",
        "    def encode(self, X):\n",
        "        encoded_X = self.relu(self.encode_linear_1(self.dropout(X)))\n",
        "        encoded_X = self.encode_linear_2(self.dropout(encoded_X))\n",
        "        return encoded_X\n",
        "\n",
        "    def decode(self, X):\n",
        "        decoded_X = self.relu(self.decode_linear_2(self.dropout(X)))\n",
        "        decoded_X = self.decode_linear_1(self.dropout(decoded_X))\n",
        "        return decoded_X\n",
        "\n",
        "    def forward(self, X):\n",
        "        latent_layer = self.encode(X)\n",
        "        output = self.decode(latent_layer)\n",
        "        return output, latent_layer"
      ]
    },
    {
      "cell_type": "markdown",
      "id": "ce061490",
      "metadata": {
        "id": "ce061490"
      },
      "source": [
        "<a id=\"9\"></a>\n",
        "\n",
        "## KL Fine-Tuning"
      ]
    },
    {
      "cell_type": "markdown",
      "id": "eae5698a",
      "metadata": {
        "id": "eae5698a"
      },
      "source": [
        "<a id=\"10\"></a>\n",
        "\n",
        "### Define Ensemble Encoder Model"
      ]
    },
    {
      "cell_type": "markdown",
      "id": "95051a51",
      "metadata": {
        "id": "95051a51"
      },
      "source": [
        "We take only the encoder section of our Auto-Encoder. This is the part that will be fine-tuned with the deep clustering."
      ]
    },
    {
      "cell_type": "code",
      "execution_count": 34,
      "id": "7f945933",
      "metadata": {
        "id": "7f945933"
      },
      "outputs": [],
      "source": [
        "class Ensembled_Encoder(nn.Module):\n",
        "\n",
        "    def __init__(self, model):\n",
        "        super(Ensembled_Encoder, self).__init__()\n",
        "        self.model = model\n",
        "\n",
        "\n",
        "    def forward(self, X):\n",
        "\n",
        "        enc_X = self.model.encode(X)\n",
        "        return enc_X"
      ]
    },
    {
      "cell_type": "markdown",
      "id": "b6bebd9a",
      "metadata": {
        "id": "b6bebd9a"
      },
      "source": [
        "<a id=\"11\"></a>\n",
        "\n",
        "### Define Soft Assignment and Target Distribution Function"
      ]
    },
    {
      "cell_type": "markdown",
      "id": "0a4fe215",
      "metadata": {
        "id": "0a4fe215"
      },
      "source": [
        "Within the deep clustering algorithm, we need to create a probability distribution over the embedded points - students t-distribution (discussed in the essay). Here we define two functions to do this with varying target distributions. The \"make_P_and_Q\" implements the standard distribution used in literature whilst the \"make_label_P_Q\" implements the delta distribution."
      ]
    },
    {
      "cell_type": "code",
      "execution_count": 35,
      "id": "a122fcdb",
      "metadata": {
        "id": "a122fcdb"
      },
      "outputs": [],
      "source": [
        "softmax = nn.Softmax(dim=0)"
      ]
    },
    {
      "cell_type": "code",
      "execution_count": 55,
      "id": "e5f6efb4",
      "metadata": {
        "id": "e5f6efb4"
      },
      "outputs": [],
      "source": [
        "def make_P_and_Q(pred, centres):\n",
        "\n",
        "    centres_broadcasted = centres.unsqueeze(0).expand(pred.size(0), -1, -1)\n",
        "\n",
        "    pred = pred.to(device)\n",
        "    centres_broadcasted = centres_broadcasted.to(device)\n",
        "\n",
        "    # Unsqueeze to match dimensions for broadcasting\n",
        "    pred_expanded = pred.unsqueeze(2).unsqueeze(3)  # Size: [64, 15, 1, 1, 10]\n",
        "    centres_broadcasted_expanded = centres_broadcasted.unsqueeze(1)  # Size: [64, 1, 64, 10]\n",
        "\n",
        "    # Calculate the Euclidean distance between pred and centres_broadcasted\n",
        "    distance = torch.norm(pred_expanded - centres_broadcasted_expanded, dim=-1)  # Size: [64, 64, 15]\n",
        "\n",
        "    # Square the distance and add 1\n",
        "    denominator = 1 + distance ** 2\n",
        "\n",
        "    # Take the reciprocal\n",
        "    q_numerator = 1 / denominator\n",
        "\n",
        "    Q = q_numerator / q_numerator.sum(dim=1, keepdim=True)\n",
        "\n",
        "    soft_cluster_frequencies = Q.sum(dim=0)\n",
        "    p_numerator = Q**2/soft_cluster_frequencies\n",
        "    P = p_numerator / p_numerator.sum(dim=1, keepdim=True)\n",
        "\n",
        "    return P, Q"
      ]
    },
    {
      "cell_type": "code",
      "execution_count": 37,
      "id": "94b62b10",
      "metadata": {
        "id": "94b62b10"
      },
      "outputs": [],
      "source": [
        "def make_label_P_Q(pred, centres, init_labels, num_clusters):\n",
        "    # Convert init_labels to a PyTorch tensor and move it to the same device as pred\n",
        "    init_labels_tensor = torch.tensor(init_labels, dtype=torch.long, device=pred.device)\n",
        "\n",
        "    # Expand centres tensor to match the shape of pred\n",
        "    centres_broadcasted = centres.unsqueeze(0).expand(pred.size(0), -1, -1, -1).to(device)\n",
        "\n",
        "    # Calculate Q using the distance between pred and centres\n",
        "    q_numerator = 1 / (1 + torch.norm(pred.unsqueeze(2) - centres_broadcasted, dim=3)**2)\n",
        "    Q = q_numerator / q_numerator.sum(dim=2, keepdim=True)\n",
        "\n",
        "    # Initialize P tensor\n",
        "    P = torch.zeros((init_labels_tensor.shape[0], num_clusters), device=pred.device)\n",
        "\n",
        "    # Assign 1 to the initial labels\n",
        "    for i in range(P.shape[0]):\n",
        "        P[i, init_labels_tensor[i]] = 1\n",
        "\n",
        "    return P.float(), Q"
      ]
    },
    {
      "cell_type": "markdown",
      "id": "1af6ef0d",
      "metadata": {
        "id": "1af6ef0d"
      },
      "source": [
        "<a id=\"12\"></a>\n",
        "\n",
        "### Define Training Loop"
      ]
    },
    {
      "cell_type": "markdown",
      "id": "aa51cce2",
      "metadata": {
        "id": "aa51cce2"
      },
      "source": [
        "This training loop is for fine-tuning the encoder part of the pre-trained autoencoder. There are various cases covered within this function: using the standard distribution, delta distribution as well as a combination of the two. As in literature, we use SGD with momentum as our optimisation. We also implement early stopping with respect to the inertia. Both distributions work particularly well at reducing inertia and so we implemented early stopping with respect to inertia - stopping after 3 instances of increased inertia.\n",
        "\n",
        "The standard distribution uses the kmeans trained at the start of each epoch to provide the centres from which we use the student t-distribution to create a probablity distribution. These two distributions are then compared using the KL loss and parameters are updated.\n",
        "\n",
        "The delta distribution uses the kmeans trained in each epoch for the cluster centres as well as providing nearest cluster labels (kmeans.predict) for each data point. From these, we use the delta-distribution to create a probability distribution.\n",
        "\n",
        "The combination of these two methods uses the sum of these two losses to update parameters. This method is not used in the final results but could be an interesting route for further analysis."
      ]
    },
    {
      "cell_type": "code",
      "execution_count": 73,
      "id": "5af575ed",
      "metadata": {
        "id": "5af575ed"
      },
      "outputs": [],
      "source": [
        "def training_loop_KL(eps, num_epochs, model, num_clusters, input_data_train, input_data_validation, input_data_test, use_original = None, use_labels = None):\n",
        "\n",
        "    kl_loss = nn.KLDivLoss(reduction=\"batchmean\")\n",
        "    optimizer = torch.optim.SGD(model.parameters(), lr=0.1, momentum=0.9)\n",
        "    training_loss = []\n",
        "    validation_loss = []\n",
        "    av_time = []\n",
        "\n",
        "    # Convert DataFrame to a numpy array and then to a tensor\n",
        "    input_tensor = torch.from_numpy(df_ftd.to_numpy().astype(np.float32)).to(device)\n",
        "\n",
        "    # Pass the tensor through the model\n",
        "    latent_space = model(input_tensor).detach().cpu().numpy()\n",
        "\n",
        "    kmeans = KMeans(n_clusters=num_clusters, n_init='auto').fit(latent_space)\n",
        "\n",
        "    stored_inertia = kmeans.inertia_\n",
        "\n",
        "    init_centres = kmeans.cluster_centers_\n",
        "\n",
        "    centres = torch.Tensor(init_centres)\n",
        "\n",
        "    old_labels = kmeans.labels_\n",
        "\n",
        "    for epoch in range(num_epochs):\n",
        "        start = time.time()\n",
        "        running_loss = 0.0\n",
        "\n",
        "        model.train()\n",
        "\n",
        "        batch_output_train = []\n",
        "\n",
        "        for X, y_true in train_loader:\n",
        "\n",
        "          optimizer.zero_grad()\n",
        "\n",
        "          X = X.to(torch.float32).to(device)\n",
        "\n",
        "          y_pred = model(X)\n",
        "          y_pred_detach = y_pred.clone().detach().cpu().numpy()\n",
        "\n",
        "          if use_original == True and use_labels == False:\n",
        "\n",
        "              P, Q = make_P_and_Q(y_pred, centres)\n",
        "\n",
        "              loss_original = kl_loss(torch.log(Q), P)\n",
        "\n",
        "              loss_original.backward()\n",
        "\n",
        "              optimizer.step()\n",
        "\n",
        "              running_loss += loss_original.item()\n",
        "\n",
        "          elif use_original == False and use_labels == True:\n",
        "\n",
        "              y_pred_detach_reshaped = y_pred_detach.reshape(-1, y_pred_detach.shape[-1])\n",
        "\n",
        "              # Predict labels for each element along the last dimension\n",
        "              labels = kmeans.predict(y_pred_detach_reshaped)\n",
        "\n",
        "              # Reshape labels back to (64, 64) shape\n",
        "              labels = labels.reshape(y_pred_detach.shape[:-1])\n",
        "\n",
        "              #labels = kmeans.predict(y_pred_detach)\n",
        "\n",
        "              P_label, Q_label = make_label_P_Q(y_pred, centres, labels, num_clusters)\n",
        "\n",
        "              loss_label = kl_loss(torch.log(Q_label), P_label)\n",
        "\n",
        "              loss_label.backward()\n",
        "\n",
        "              optimizer.step()\n",
        "\n",
        "              running_loss += loss_label.item()\n",
        "\n",
        "          elif use_original == True and use_labels == True:\n",
        "\n",
        "\n",
        "\n",
        "              labels = kmeans.predict(y_pred_detach)\n",
        "\n",
        "              P_label, Q_label = make_label_P_Q(y_pred, centres, labels, num_clusters)\n",
        "\n",
        "              P_original, Q_original = make_P_and_Q(y_pred, centres)\n",
        "\n",
        "              loss_label = kl_loss(torch.log(Q_label), P_label)\n",
        "\n",
        "              loss_original = kl_loss(torch.log(Q_original), P_original)\n",
        "\n",
        "              loss_label.backward(retain_graph = True)\n",
        "              loss_original.backward(retain_graph = True)\n",
        "\n",
        "              optimizer.step()\n",
        "\n",
        "              running_loss += (loss_label + loss_original).item()\n",
        "\n",
        "          else:\n",
        "\n",
        "              return \"Not Possible: Please select True for at least one\"\n",
        "\n",
        "\n",
        "        average_loss = running_loss / len(input_data_train)\n",
        "        #print(f\"Epoch {epoch + 1}/{num_epochs}, Loss: {average_loss}\")\n",
        "        training_loss.append(average_loss)\n",
        "\n",
        "        #print(average_loss)\n",
        "\n",
        "        # Validation loop\n",
        "        model.eval()  # Set the model to evaluation mode\n",
        "        val_loss = 0.0\n",
        "        with torch.no_grad():\n",
        "\n",
        "            batch_output_val = []\n",
        "\n",
        "            for X_val, y_true_val in val_loader:\n",
        "\n",
        "                X_val = X_val.to(torch.float32).to(device)\n",
        "\n",
        "                y_pred_val = model(X_val)\n",
        "\n",
        "                y_pred_val = y_pred_val.unsqueeze(0)\n",
        "\n",
        "                y_pred_detach_val = y_pred_val.clone().detach().cpu().numpy()\n",
        "\n",
        "                if use_original == True and use_labels == False:\n",
        "\n",
        "                    P_val, Q_val = make_P_and_Q(y_pred_val, centres)\n",
        "\n",
        "                    loss_val_original = kl_loss(torch.log(Q_val), P_val)\n",
        "\n",
        "                    val_loss += loss_val_original.item()\n",
        "\n",
        "                elif use_original == False and use_labels == True:\n",
        "\n",
        "                    y_pred_detach_val_reshaped = y_pred_detach_val.reshape(-1, y_pred_detach_val.shape[-1])\n",
        "\n",
        "                    # Predict labels for each element along the last dimension\n",
        "                    labels_val = kmeans.predict(y_pred_detach_val_reshaped)\n",
        "\n",
        "                    # Reshape labels back to (64, 64) shape\n",
        "                    labels = labels_val.reshape(y_pred_detach_val.shape[:-1])\n",
        "\n",
        "                    P_val_labels, Q_val_labels = make_label_P_Q(y_pred_val, centres, labels_val, num_clusters)\n",
        "\n",
        "                    loss_val_labels = kl_loss(torch.log(Q_val_labels), P_val_labels)\n",
        "\n",
        "                    val_loss += loss_val_labels.item()\n",
        "\n",
        "                elif use_original == True and use_labels == True:\n",
        "\n",
        "                    labels_val = kmeans.predict(y_pred_detach_val)\n",
        "\n",
        "                    P_val_labels, Q_val_labels = make_label_P_Q(y_pred_val, centres, labels_val, num_clusters)\n",
        "\n",
        "                    P_val_original, Q_val_original = make_P_and_Q(y_pred_val, centres)\n",
        "\n",
        "                    loss_val_labels = kl_loss(torch.log(Q_val_labels), P_val_labels)\n",
        "\n",
        "                    loss_val_original = kl_loss(torch.log(Q_val_original), P_val_original)\n",
        "\n",
        "                    val_loss += (loss_val_labels + loss_val_original).item()\n",
        "\n",
        "                else:\n",
        "                    return \"Not Possible\"\n",
        "\n",
        "        # Print the validation loss for the epoch.\n",
        "        average_val_loss = val_loss / len(input_data_validation)\n",
        "        #print(f\"Validation Loss: {average_val_loss} \\n\")\n",
        "        validation_loss.append(average_val_loss)\n",
        "\n",
        "        # Convert DataFrame to a numpy array and then to a tensor\n",
        "        input_tensor_val = torch.from_numpy(df_ftd.to_numpy().astype(np.float32)).to(device)\n",
        "\n",
        "        # Pass the tensor through the model\n",
        "        output = model(input_tensor_val).detach().cpu().numpy()\n",
        "\n",
        "        kmeans = KMeans(n_clusters=num_clusters, n_init='auto').fit(output)\n",
        "\n",
        "        #print(kmeans.inertia_)\n",
        "\n",
        "        centres = torch.Tensor(kmeans.cluster_centers_)\n",
        "\n",
        "\n",
        "        if epoch == 0:\n",
        "            stored_inertia = kmeans.inertia_\n",
        "            dev_loss_counter = 0\n",
        "            model_stored = copy.deepcopy(model)\n",
        "        else:\n",
        "            if kmeans.inertia_ >= stored_inertia:\n",
        "                #print(\"here\")\n",
        "                dev_loss_counter += 1\n",
        "                if dev_loss_counter > 3:\n",
        "                    #print(\"Early Stopping\")\n",
        "                    model = model_stored\n",
        "                    break\n",
        "            else:\n",
        "                stored_inertia = kmeans.inertia_\n",
        "                dev_loss_counter = 0\n",
        "                model_stored = copy.deepcopy(model)\n",
        "        end = time.time()\n",
        "        av_time.append((end-start))\n",
        "\n",
        "\n",
        "    # Testing loop\n",
        "    model.eval()  # Set the model to evaluation mode\n",
        "    test_loss = 0.0\n",
        "    with torch.no_grad():\n",
        "\n",
        "        batch_output_test = []\n",
        "        for X_test, y_true_test in test_loader:\n",
        "\n",
        "            X_test = X_test.to(torch.float32).to(device)\n",
        "\n",
        "            y_pred_test = model(X_test)\n",
        "\n",
        "            y_pred_test = y_pred_test.unsqueeze(0)\n",
        "\n",
        "            y_pred_detach_test =  y_pred_test.clone().detach().cpu().numpy()\n",
        "\n",
        "            if use_original == True and use_labels == False:\n",
        "\n",
        "                P_test, Q_test = make_P_and_Q(y_pred_test, centres)\n",
        "\n",
        "                loss_test_original = kl_loss(torch.log(Q_test), P_test)\n",
        "\n",
        "                test_loss += loss_test_original.item()\n",
        "\n",
        "            elif use_original == False and use_labels == True:\n",
        "\n",
        "                y_pred_detach_test_reshaped = y_pred_detach_test.reshape(-1, y_pred_detach_test.shape[-1])\n",
        "\n",
        "                # Predict labels for each element along the last dimension\n",
        "                labels_test = kmeans.predict(y_pred_detach_test_reshaped)\n",
        "\n",
        "                # Reshape labels back to (64, 64) shape\n",
        "                labels_test = labels_test.reshape(y_pred_detach_test.shape[:-1])\n",
        "\n",
        "                P_test_labels, Q_test_labels = make_label_P_Q(y_pred_test, centres, labels_test, num_clusters)\n",
        "\n",
        "                loss_test_labels = kl_loss(torch.log(Q_test_labels), P_test_labels)\n",
        "\n",
        "                test_loss += loss_test_labels.item()\n",
        "\n",
        "            elif use_original == True and use_labels == True:\n",
        "\n",
        "                labels_test = kmeans.predict(y_pred_detach_test)\n",
        "\n",
        "                P_test_labels, Q_test_labels = make_label_P_Q(y_pred_test, centres, labels_test, num_clusters)\n",
        "\n",
        "                P_test_original, Q_test_original = make_P_and_Q(y_pred_test, centres)\n",
        "\n",
        "                loss_test_labels = kl_loss(torch.log(Q_test_labels), P_test_labels)\n",
        "\n",
        "                loss_test_original = kl_loss(torch.log(Q_test_original), P_test_original)\n",
        "\n",
        "                test_loss += (loss_test_labels + loss_test_original).item()\n",
        "\n",
        "    # Print the average test loss\n",
        "    average_test_loss = test_loss / len(input_data_test)\n",
        "    #print(f\"Average Test Loss: {average_test_loss}\")\n",
        "    print(\"Fine-tuned time take: \", np.mean(av_time))\n",
        "\n",
        "    return training_loss, validation_loss"
      ]
    },
    {
      "cell_type": "markdown",
      "id": "78672778",
      "metadata": {
        "id": "78672778"
      },
      "source": [
        "## Training Functions"
      ]
    },
    {
      "cell_type": "markdown",
      "id": "49b4ddb1",
      "metadata": {
        "id": "49b4ddb1"
      },
      "source": [
        "We now define training functions for each of the models, being sure to store copies that can be used to analysis later."
      ]
    },
    {
      "cell_type": "code",
      "execution_count": 39,
      "id": "9927970a",
      "metadata": {
        "id": "9927970a"
      },
      "outputs": [],
      "source": [
        "def train_ae_original(ae, num_clusters, num_epochs, eps):\n",
        "\n",
        "    ae_original = copy.deepcopy(ae)\n",
        "\n",
        "    ae_original_enc = Ensembled_Encoder(ae_original).to(device)\n",
        "    training_loss, validation_loss = training_loop_KL(eps, num_epochs, ae_original_enc, num_clusters,\n",
        "                                                      initial_train_batches, initial_val,\n",
        "                                                      initial_test, use_original = True, use_labels = False)\n",
        "\n",
        "    return ae_original_enc, training_loss, validation_loss"
      ]
    },
    {
      "cell_type": "code",
      "execution_count": 40,
      "id": "434018c0",
      "metadata": {
        "id": "434018c0"
      },
      "outputs": [],
      "source": [
        "def train_ae_label(ae, num_clusters, num_epochs, eps):\n",
        "\n",
        "    ae_label = copy.deepcopy(ae)\n",
        "\n",
        "    ae_label_enc = Ensembled_Encoder(ae_label).to(device)\n",
        "    training_loss, validation_loss = training_loop_KL(eps, num_epochs, ae_label_enc, num_clusters,\n",
        "                                                            initial_train_batches, initial_val,\n",
        "                                                            initial_test, use_original = False, use_labels = True)\n",
        "\n",
        "    return ae_label_enc, training_loss, validation_loss"
      ]
    },
    {
      "cell_type": "code",
      "execution_count": 41,
      "id": "21e324e6",
      "metadata": {
        "scrolled": true,
        "id": "21e324e6"
      },
      "outputs": [],
      "source": [
        "def train_ae_original_label(ae, num_clusters, num_epochs, eps):\n",
        "    ae_original_label = copy.deepcopy(ae)\n",
        "\n",
        "    ae_original_label_enc = Ensembled_Encoder(ae_original_label).to(device)\n",
        "    training_loss, validation_loss = training_loop_KL(eps, num_epochs, ae_original_label_enc, num_clusters,\n",
        "                                        initial_train_batches, initial_val,\n",
        "                                        initial_test, use_original = True, use_labels = False)\n",
        "\n",
        "    return ae_original_label_enc, training_loss, validation_loss"
      ]
    },
    {
      "cell_type": "markdown",
      "id": "167851ac",
      "metadata": {
        "id": "167851ac"
      },
      "source": [
        "## Metric Functions"
      ]
    },
    {
      "cell_type": "markdown",
      "id": "0e76c2b5",
      "metadata": {
        "id": "0e76c2b5"
      },
      "source": [
        "We now define functions for evaluating our models depending on their architecture. To reduce the time taken for these metrics, we used normal KMeans."
      ]
    },
    {
      "cell_type": "code",
      "execution_count": 42,
      "id": "4d50e750",
      "metadata": {
        "id": "4d50e750"
      },
      "outputs": [],
      "source": [
        "def get_normal_kmeans(num_clusters):\n",
        "\n",
        "    normal_kmeans = KMeans(n_clusters=num_clusters, random_state=0, n_init='auto').fit(df_ftd)\n",
        "\n",
        "    normal_labels = normal_kmeans.fit_predict(df_ftd)\n",
        "\n",
        "    normal_inertia = normal_kmeans.inertia_\n",
        "\n",
        "    normal_sil = silhouette_score(df_ftd, normal_labels)\n",
        "\n",
        "    return normal_inertia, normal_sil, normal_kmeans"
      ]
    },
    {
      "cell_type": "code",
      "execution_count": 43,
      "id": "706fccbb",
      "metadata": {
        "id": "706fccbb"
      },
      "outputs": [],
      "source": [
        "def get_pca_kmeans(num_clusters, num_components):\n",
        "    pca = PCA(n_components= num_components)\n",
        "    pca.fit(df_ftd)\n",
        "    df_ftd_PCA_reduced = pca.transform(df_ftd)\n",
        "\n",
        "    pca_emb_kmeans = KMeans(n_clusters=num_clusters, random_state=0, n_init='auto').fit(df_ftd_PCA_reduced)\n",
        "\n",
        "    pca_inertia = pca_emb_kmeans.inertia_\n",
        "\n",
        "    pca_labels = pca_emb_kmeans.fit_predict(df_ftd_PCA_reduced)\n",
        "\n",
        "    pca_sil = silhouette_score(df_ftd_PCA_reduced, pca_labels)\n",
        "\n",
        "    return pca_inertia, pca_sil, pca_emb_kmeans"
      ]
    },
    {
      "cell_type": "code",
      "execution_count": 44,
      "id": "5fa835ca",
      "metadata": {
        "id": "5fa835ca"
      },
      "outputs": [],
      "source": [
        "def get_constrained_kmeans(num_clusters):\n",
        "\n",
        "    constrained_kmeans = KMeansConstrained(n_clusters=num_clusters, size_min=200, n_init=10, random_state=0).fit(df_ftd)\n",
        "\n",
        "    constrained_labels = constrained_kmeans.fit_predict(df_ftd)\n",
        "\n",
        "    constrained_inertia = constrained_kmeans.inertia_\n",
        "\n",
        "    constrained_sil = silhouette_score(df_ftd, constrained_labels)\n",
        "\n",
        "    return constrained_inertia, constrained_sil, constrained_kmeans"
      ]
    },
    {
      "cell_type": "code",
      "execution_count": 45,
      "id": "4c854944",
      "metadata": {
        "id": "4c854944"
      },
      "outputs": [],
      "source": [
        "def get_non_KL_deep_cluster_metrics(model, num_clusters):\n",
        "\n",
        "    embedded_df_ftd = model.encode(torch.from_numpy(df_ftd.to_numpy().astype(np.float32)).to(torch.float32)).detach().numpy()\n",
        "\n",
        "    deep_emb_kmeans = KMeans(n_clusters=num_clusters, random_state=0, n_init='auto').fit(embedded_df_ftd)\n",
        "\n",
        "    deep_labels = deep_emb_kmeans.fit_predict(embedded_df_ftd)\n",
        "    sil_score = silhouette_score(embedded_df_ftd, deep_labels)\n",
        "\n",
        "    inertia = deep_emb_kmeans.inertia_\n",
        "\n",
        "    return inertia, sil_score"
      ]
    },
    {
      "cell_type": "code",
      "execution_count": 46,
      "id": "f0433ad0",
      "metadata": {
        "id": "f0433ad0"
      },
      "outputs": [],
      "source": [
        "def get_KL_deep_cluster_metrics(model, num_clusters):\n",
        "\n",
        "    embedded_df_ftd = model(torch.from_numpy(df_ftd.to_numpy().astype(np.float32)).to(torch.float32)).detach().numpy()\n",
        "\n",
        "    deep_emb_kmeans = KMeans(n_clusters=num_clusters, n_init='auto').fit(embedded_df_ftd)\n",
        "\n",
        "    deep_labels = deep_emb_kmeans.fit_predict(embedded_df_ftd)\n",
        "    sil_score = silhouette_score(embedded_df_ftd, deep_labels)\n",
        "\n",
        "    inertia = deep_emb_kmeans.inertia_\n",
        "\n",
        "    return inertia, sil_score\n"
      ]
    },
    {
      "cell_type": "markdown",
      "id": "993dba6f",
      "metadata": {
        "id": "993dba6f"
      },
      "source": [
        "This function combines all the work above to produce final dictionaries with the metrics for each model."
      ]
    },
    {
      "cell_type": "code",
      "execution_count": 65,
      "id": "f312543e",
      "metadata": {
        "id": "f312543e"
      },
      "outputs": [],
      "source": [
        "def get_all_model_metrics(num_repeats = None, num_clusters = None, num_epochs_linear = None, num_epochs_deep = None, num_components = None, embedding_size = None, latent_size = None, eps = None):\n",
        "\n",
        "    model_inertia_evaluation = {\n",
        "        'kmeans': [],\n",
        "        'pca_kmeans': [],\n",
        "        'constrained_kmeans': [],\n",
        "        'linear_ae': [],\n",
        "        'linear_ae_original': [],\n",
        "        'linear_ae_label': [],\n",
        "        'deep_ae': [],\n",
        "        'deep_ae_original': [],\n",
        "        'deep_ae_label': []\n",
        "    }\n",
        "\n",
        "\n",
        "    model_sil_evaluation = {\n",
        "        'kmeans': [],\n",
        "        'pca_kmeans': [],\n",
        "        'constrained_kmeans': [],\n",
        "        'linear_ae': [],\n",
        "        'linear_ae_original': [],\n",
        "        'linear_ae_label': [],\n",
        "        'deep_ae': [],\n",
        "        'deep_ae_original': [],\n",
        "        'deep_ae_label': []\n",
        "    }\n",
        "\n",
        "\n",
        "    training_losses = {\n",
        "        'linear_ae': [],\n",
        "        'linear_ae_original': [],\n",
        "        'linear_ae_label': [],\n",
        "        'deep_ae': [],\n",
        "        'deep_ae_original': [],\n",
        "        'deep_ae_label': []\n",
        "    }\n",
        "\n",
        "    validation_losses = {\n",
        "        'linear_ae': [],\n",
        "        'linear_ae_original': [],\n",
        "        'linear_ae_label': [],\n",
        "        'deep_ae': [],\n",
        "        'deep_ae_original': [],\n",
        "        'deep_ae_label': []\n",
        "    }\n",
        "\n",
        "\n",
        "    models = {\n",
        "        'kmeans': [],\n",
        "        'pca_kmeans': [],\n",
        "        'constrained_kmeans': [],\n",
        "        'linear_ae': [],\n",
        "        'linear_ae_original': [],\n",
        "        'linear_ae_label': [],\n",
        "        'deep_ae': [],\n",
        "        'deep_ae_original': [],\n",
        "        'deep_ae_label': []\n",
        "    }\n",
        "\n",
        "\n",
        "    for i in range(num_repeats):\n",
        "\n",
        "            ae = deep_AE(embedding_size, latent_size, 0.5)\n",
        "            ae.to(device)\n",
        "            print(\"Pre-Train for Deep AutoEncoder: \")\n",
        "            ae_training_loss, ae_validation_loss = training_loop_non_KL(num_epochs_deep, ae, initial_train_batches, initial_val, initial_test, eps)\n",
        "            training_losses['deep_ae'].append(ae_training_loss)\n",
        "            validation_losses['deep_ae'].append(ae_validation_loss)\n",
        "\n",
        "            ae_stored = copy.deepcopy(ae)\n",
        "            models['deep_ae'].append(ae)\n",
        "\n",
        "            print(\"Fine-tune for Deep Delta Distribution: \")\n",
        "            ae_label_enc, ae_label_training_loss, ae_label_validation_loss  = train_ae_label(ae, num_clusters, num_epochs_deep, eps)\n",
        "            training_losses['deep_ae_label'].append(ae_label_training_loss)\n",
        "            validation_losses['deep_ae_label'].append(ae_label_validation_loss)\n",
        "            models['deep_ae_label'].append(ae_label_enc)\n",
        "\n",
        "            print(\"Fine-tune for Standard DEC: \")\n",
        "            ae_original_enc, ae_original_training_loss, ae_original_validation_loss = train_ae_original(ae, num_clusters, num_epochs_deep, eps)\n",
        "            training_losses['deep_ae_original'].append(ae_original_training_loss)\n",
        "            validation_losses['deep_ae_original'].append(ae_original_validation_loss)\n",
        "            models['deep_ae_original'].append(ae_original_enc)\n",
        "\n",
        "\n",
        "\n",
        "\n",
        "    for i in range(num_repeats):\n",
        "\n",
        "            ae = linear_AE(embedding_size, latent_size).to(device)\n",
        "            print(\"Pre-Train Linear AutoEncoder: \")\n",
        "            ae_training_loss, ae_validation_loss = training_loop_non_KL(num_epochs_linear, ae, initial_train_batches, initial_val, initial_test, eps)\n",
        "            training_losses['linear_ae'].append(ae_training_loss)\n",
        "            validation_losses['linear_ae'].append(ae_validation_loss)\n",
        "            ae_stored = copy.deepcopy(ae)\n",
        "            models['linear_ae'].append(ae)\n",
        "\n",
        "            print(\"Fine-tune deltaDEC: \")\n",
        "            ae_label_enc, ae_label_training_loss, ae_label_validation_loss  = train_ae_label(ae, num_clusters, num_epochs_linear, eps)\n",
        "            training_losses['linear_ae_label'].append(ae_label_training_loss)\n",
        "            validation_losses['linear_ae_label'].append(ae_label_validation_loss)\n",
        "            models['linear_ae_label'].append(ae_label_enc)\n",
        "\n",
        "            print(\"Fine-tune Linear Standard Distribution: \")\n",
        "            ae_original_enc, ae_original_training_loss, ae_original_validation_loss = train_ae_original(ae, num_clusters, num_epochs_linear, eps)\n",
        "            training_losses['linear_ae_original'].append(ae_original_training_loss)\n",
        "            validation_losses['linear_ae_original'].append(ae_original_validation_loss)\n",
        "            models['linear_ae_original'].append(ae_original_enc)\n",
        "\n",
        "\n",
        "    return model_inertia_evaluation, model_sil_evaluation, training_losses, validation_losses, models\n"
      ]
    },
    {
      "cell_type": "markdown",
      "id": "05dec1d8",
      "metadata": {
        "id": "05dec1d8"
      },
      "source": [
        "Train the models and collect the metrics:"
      ]
    },
    {
      "cell_type": "code",
      "execution_count": 75,
      "id": "8b298855",
      "metadata": {
        "id": "8b298855",
        "outputId": "1b12667a-3bef-4ae2-ade8-3a21ed9d8d05",
        "colab": {
          "base_uri": "https://localhost:8080/"
        }
      },
      "outputs": [
        {
          "output_type": "stream",
          "name": "stdout",
          "text": [
            "Pre-Train for Deep AutoEncoder: \n",
            "time taken:  0.21249699592590332\n",
            "Fine-tune for Deep Delta Distribution: \n"
          ]
        },
        {
          "output_type": "stream",
          "name": "stderr",
          "text": [
            "<ipython-input-73-267de8fd53f1>:177: ConvergenceWarning: Number of distinct clusters (1) found smaller than n_clusters (15). Possibly due to duplicate points in X.\n",
            "  kmeans = KMeans(n_clusters=num_clusters, n_init='auto').fit(output)\n",
            "<ipython-input-73-267de8fd53f1>:177: ConvergenceWarning: Number of distinct clusters (1) found smaller than n_clusters (15). Possibly due to duplicate points in X.\n",
            "  kmeans = KMeans(n_clusters=num_clusters, n_init='auto').fit(output)\n",
            "<ipython-input-73-267de8fd53f1>:177: ConvergenceWarning: Number of distinct clusters (1) found smaller than n_clusters (15). Possibly due to duplicate points in X.\n",
            "  kmeans = KMeans(n_clusters=num_clusters, n_init='auto').fit(output)\n",
            "<ipython-input-73-267de8fd53f1>:177: ConvergenceWarning: Number of distinct clusters (1) found smaller than n_clusters (15). Possibly due to duplicate points in X.\n",
            "  kmeans = KMeans(n_clusters=num_clusters, n_init='auto').fit(output)\n",
            "<ipython-input-73-267de8fd53f1>:177: ConvergenceWarning: Number of distinct clusters (1) found smaller than n_clusters (15). Possibly due to duplicate points in X.\n",
            "  kmeans = KMeans(n_clusters=num_clusters, n_init='auto').fit(output)\n"
          ]
        },
        {
          "output_type": "stream",
          "name": "stdout",
          "text": [
            "Fine-tuned time take:  1.014507234096527\n",
            "Fine-tune for Standard DEC: \n",
            "Fine-tuned time take:  0.6291525745391846\n",
            "Pre-Train Linear AutoEncoder: \n",
            "time taken:  0.20160333156585694\n",
            "Fine-tune deltaDEC: \n",
            "Fine-tuned time take:  0.990750789642334\n",
            "Fine-tune Linear Standard Distribution: \n",
            "Fine-tuned time take:  0.7566780328750611\n"
          ]
        }
      ],
      "source": [
        "model_inertia_evaluation, model_sil_evaluation, training_losses, validation_losses, models = get_all_model_metrics( num_repeats = 1, num_clusters = 15,\n",
        "                                                                                                                    num_epochs_linear = 50, num_epochs_deep = 50,\n",
        "                                                                                                                   num_components = 10, embedding_size = 49, latent_size = 10, eps = 0.01)"
      ]
    },
    {
      "cell_type": "code",
      "execution_count": null,
      "id": "0ea2e692",
      "metadata": {
        "id": "0ea2e692"
      },
      "outputs": [],
      "source": [
        "#get models, training and validation loop for max sil score\n",
        "for i in model_inertia_evaluation.keys():\n",
        "\n",
        "    models[i] = models[i][model_inertia_evaluation[i].index(min(model_inertia_evaluation[i]))]\n",
        "\n",
        "    if 'ae' in i:\n",
        "        training_losses[i] = training_losses[i][model_inertia_evaluation[i].index(min(model_inertia_evaluation[i]))]\n",
        "        validation_losses[i] = validation_losses[i][model_inertia_evaluation[i].index(min(model_inertia_evaluation[i]))]\n",
        "\n",
        "\n",
        "for i in model_inertia_evaluation.keys():\n",
        "    model_sil_evaluation[i] = model_sil_evaluation[i][model_inertia_evaluation[i].index(min(model_inertia_evaluation[i]))]\n",
        "    model_inertia_evaluation[i] = min(model_inertia_evaluation[i])"
      ]
    },
    {
      "cell_type": "markdown",
      "id": "fa98dbe7",
      "metadata": {
        "id": "fa98dbe7"
      },
      "source": [
        "## Results"
      ]
    },
    {
      "cell_type": "markdown",
      "id": "ee36ece8",
      "metadata": {
        "id": "ee36ece8"
      },
      "source": [
        "The inertia and silhouette scores of each of the models:"
      ]
    },
    {
      "cell_type": "code",
      "execution_count": null,
      "id": "a9c6c09d",
      "metadata": {
        "id": "a9c6c09d",
        "outputId": "0e14c3de-3450-4a63-e5ce-27a78dfa06d5"
      },
      "outputs": [
        {
          "data": {
            "text/plain": [
              "{'kmeans': 186202.674365548,\n",
              " 'pca_kmeans': 109972.93789626166,\n",
              " 'constrained_kmeans': 185787.5988384341,\n",
              " 'ae': 41626.2265625,\n",
              " 'ae_original': 14.47199535369873,\n",
              " 'ae_label': 0.31393927335739136}"
            ]
          },
          "execution_count": 47,
          "metadata": {},
          "output_type": "execute_result"
        }
      ],
      "source": [
        "model_inertia_evaluation"
      ]
    },
    {
      "cell_type": "code",
      "execution_count": null,
      "id": "a275c68f",
      "metadata": {
        "id": "a275c68f",
        "outputId": "9b0c49e4-0395-4c61-caaf-bd3524a99fe4"
      },
      "outputs": [
        {
          "data": {
            "text/plain": [
              "{'kmeans': 0.13144698174602346,\n",
              " 'pca_kmeans': 0.2033592561470436,\n",
              " 'constrained_kmeans': 0.14449570171005624,\n",
              " 'ae': 0.20470957,\n",
              " 'ae_original': 0.20319349,\n",
              " 'ae_label': 0.9996517}"
            ]
          },
          "execution_count": 48,
          "metadata": {},
          "output_type": "execute_result"
        }
      ],
      "source": [
        "model_sil_evaluation"
      ]
    },
    {
      "cell_type": "markdown",
      "id": "fa51572c",
      "metadata": {
        "id": "fa51572c"
      },
      "source": [
        "Plot these metrics. Note due to the extreme range of values, we take log of the inertia."
      ]
    },
    {
      "cell_type": "code",
      "execution_count": null,
      "id": "18d3cb11",
      "metadata": {
        "id": "18d3cb11",
        "outputId": "ff1219af-e21e-4026-8dd8-7b416823caef"
      },
      "outputs": [
        {
          "data": {
            "image/png": "[encoded data removed]",
            "text/plain": [
              "<Figure size 640x480 with 1 Axes>"
            ]
          },
          "metadata": {},
          "output_type": "display_data"
        }
      ],
      "source": [
        "plt.barh(range(len(model_sil_evaluation)), list(model_sil_evaluation.values()), align='center')\n",
        "plt.yticks(range(len(model_sil_evaluation)), list([\"KMeans\", 'PCA + KMeans', 'Constrained KMeans',\n",
        "                                                  'AutoEncoder Latent Space', \"Standard Distribution DEC\",\n",
        "                                                  \"deltaDEC\"]))\n",
        "plt.title(\"Silhouette Score per Cluster Method\")\n",
        "plt.ylabel(\"Cluster Method\")\n",
        "plt.xlabel(\"Silhouette Score\")\n",
        "plt.show()"
      ]
    },
    {
      "cell_type": "code",
      "execution_count": null,
      "id": "3419436d",
      "metadata": {
        "id": "3419436d"
      },
      "outputs": [],
      "source": [
        "log_inert = {}\n",
        "\n",
        "for i, j in model_inertia_evaluation.items():\n",
        "    log_inert[i] = np.log(j)"
      ]
    },
    {
      "cell_type": "code",
      "execution_count": null,
      "id": "5fbbc992",
      "metadata": {
        "id": "5fbbc992",
        "outputId": "7eebb327-6a81-4baf-e064-c681fe6e67f4"
      },
      "outputs": [
        {
          "data": {
            "image/png": "[encoded data removed]",
            "text/plain": [
              "<Figure size 640x480 with 1 Axes>"
            ]
          },
          "metadata": {},
          "output_type": "display_data"
        }
      ],
      "source": [
        "plt.barh(range(len(log_inert)), list(log_inert.values()), align='center')\n",
        "plt.yticks(range(len(log_inert)), list([\"KMeans\", 'PCA + KMeans', 'Constrained KMeans',\n",
        "                                                  'AutoEncoder Latent Space', \"Standard Distribution DEC\",\n",
        "                                                  \"deltaDEC\"]))\n",
        "plt.title(\"Log Inertia Score per Cluster Method\")\n",
        "plt.ylabel(\"Cluster Method\")\n",
        "plt.xlabel(\"Log Inertia Score\")\n",
        "plt.show()"
      ]
    },
    {
      "cell_type": "markdown",
      "id": "90f42d18",
      "metadata": {
        "id": "90f42d18"
      },
      "source": [
        "## Explainability"
      ]
    },
    {
      "cell_type": "markdown",
      "id": "c00459f5",
      "metadata": {
        "id": "c00459f5"
      },
      "source": [
        "In order to better understand our clusters, we aim to look inside the \"black box\" model. We do this through SHAP values which compare the model's outputs on different combinations of all the features. We then have a score for the importance of each feature which is plotted below. Analysis of this can be found in the essay."
      ]
    },
    {
      "cell_type": "code",
      "execution_count": null,
      "id": "f58be31f",
      "metadata": {
        "id": "f58be31f"
      },
      "outputs": [],
      "source": [
        "X_train = []\n",
        "\n",
        "for i,j in initial_train_batches:\n",
        "    X_train.append(i)\n",
        "\n",
        "X_train = np.concatenate(X_train, axis=0)\n",
        "n_train = 5000\n",
        "index_train = np.random.choice(X_train.shape[0], n_train, replace=False)\n",
        "\n",
        "X_train = X_train[index_train]\n",
        "\n",
        "X_test = []\n",
        "\n",
        "for i, j in initial_test:\n",
        "    X_test.append(i.reshape(1, -1))\n",
        "\n",
        "X_test = np.concatenate(X_test, axis = 0)\n",
        "\n",
        "n_test = 1000\n",
        "index_test = np.random.choice(X_test.shape[0], n_test, replace=False)\n",
        "\n",
        "X_test = X_test[index_test]"
      ]
    },
    {
      "cell_type": "code",
      "execution_count": null,
      "id": "612cd292",
      "metadata": {
        "id": "612cd292"
      },
      "outputs": [],
      "source": [
        "e = shap.DeepExplainer(models['ae_label'], torch.Tensor(X_train))\n",
        "shap_values = e.shap_values(torch.Tensor(X_test))"
      ]
    },
    {
      "cell_type": "code",
      "execution_count": null,
      "id": "3a0b2b36",
      "metadata": {
        "id": "3a0b2b36"
      },
      "outputs": [],
      "source": [
        "mean_shap = np.zeros(np.mean(shap_values[0], axis = 0).shape)\n",
        "\n",
        "for i in shap_values:\n",
        "    mean_shap += np.mean(abs(i), axis=0)\n",
        "\n",
        "mean_shap = (mean_shap / len(shap_values))"
      ]
    },
    {
      "cell_type": "code",
      "execution_count": null,
      "id": "65e58e48",
      "metadata": {
        "id": "65e58e48"
      },
      "outputs": [],
      "source": [
        "feature_shap = {}\n",
        "\n",
        "for i, j in enumerate(df_ftd.columns):\n",
        "    if mean_shap[i] > 0.1:\n",
        "        feature_shap[j] = mean_shap[i]"
      ]
    },
    {
      "cell_type": "code",
      "execution_count": null,
      "id": "315a2005",
      "metadata": {
        "id": "315a2005",
        "outputId": "54e579de-1491-4450-d6b3-777de6011ab7"
      },
      "outputs": [
        {
          "data": {
            "image/png": "[encoded data removed]",
            "text/plain": [
              "<Figure size 640x480 with 1 Axes>"
            ]
          },
          "metadata": {},
          "output_type": "display_data"
        }
      ],
      "source": [
        "plt.barh(range(len(feature_shap)), list(feature_shap.values()), align='center')\n",
        "plt.yticks(range(len(feature_shap)), feature_shap.keys())\n",
        "plt.title(\"Feature Importance\")\n",
        "plt.ylabel(\"Feature\")\n",
        "plt.xlabel(\"mean(|shap|)\")\n",
        "plt.show()"
      ]
    },
    {
      "cell_type": "markdown",
      "id": "022cf42f",
      "metadata": {
        "id": "022cf42f"
      },
      "source": [
        "## Upload the new labelled data"
      ]
    },
    {
      "cell_type": "markdown",
      "id": "7ef499d7",
      "metadata": {
        "id": "7ef499d7"
      },
      "source": [
        "For better analysis in a different notebook, we store a separate dataframe with the deltaDEC labels. This data can be found on the github."
      ]
    },
    {
      "cell_type": "code",
      "execution_count": null,
      "id": "efc5d0f1",
      "metadata": {
        "id": "efc5d0f1"
      },
      "outputs": [],
      "source": [
        "embedded_df_ftd = models['ae_label'](torch.from_numpy(df_ftd.to_numpy()).to(torch.float32)).detach().numpy()\n",
        "\n",
        "deep_emb_kmeans = KMeansConstrained(n_clusters=15, size_min=200, n_init=10, random_state=0).fit(embedded_df_ftd)\n",
        "\n",
        "df_ftd_pre_encoding['AE_Label'] = deep_emb_kmeans.fit_predict(embedded_df_ftd)"
      ]
    },
    {
      "cell_type": "code",
      "execution_count": null,
      "id": "4277d657",
      "metadata": {
        "id": "4277d657"
      },
      "outputs": [],
      "source": [
        "df_ftd_pre_encoding.to_csv('/home/tom/Documents/ParlayPlay/Cluster_EDA/labelled_new_bins_22_02.csv')"
      ]
    }
  ],
  "metadata": {
    "kernelspec": {
      "display_name": "Python 3",
      "name": "python3"
    },
    "language_info": {
      "codemirror_mode": {
        "name": "ipython",
        "version": 3
      },
      "file_extension": ".py",
      "mimetype": "text/x-python",
      "name": "python",
      "nbconvert_exporter": "python",
      "pygments_lexer": "ipython3",
      "version": "3.10.12"
    },
    "colab": {
      "provenance": [],
      "gpuType": "T4",
      "include_colab_link": true
    },
    "accelerator": "GPU"
  },
  "nbformat": 4,
  "nbformat_minor": 5
}
