{
 "cells": [
  {
   "cell_type": "markdown",
   "id": "67e57438",
   "metadata": {},
   "source": [
    "# Deep Clustering"
   ]
  },
  {
   "cell_type": "markdown",
   "id": "7c25ea60",
   "metadata": {},
   "source": [
    "<a id=\"1\"></a>\n",
    "\n",
    "## Imports\n"
   ]
  },
  {
   "cell_type": "code",
   "execution_count": 1,
   "id": "d1e96ded",
   "metadata": {},
   "outputs": [
    {
     "name": "stderr",
     "output_type": "stream",
     "text": [
      "/home/tom/.local/lib/python3.10/site-packages/pandas/core/computation/expressions.py:21: UserWarning: Pandas requires version '2.8.4' or newer of 'numexpr' (version '2.8.1' currently installed).\n",
      "  from pandas.core.computation.check import NUMEXPR_INSTALLED\n",
      "/home/tom/.local/lib/python3.10/site-packages/pandas/core/arrays/masked.py:60: UserWarning: Pandas requires version '1.3.6' or newer of 'bottleneck' (version '1.3.2' currently installed).\n",
      "  from pandas.core import (\n"
     ]
    }
   ],
   "source": [
    "import numpy as np\n",
    "import torch \n",
    "import torch.optim as optim\n",
    "import torch.nn as nn\n",
    "import torch.nn.functional as F\n",
    "import matplotlib.pyplot as plt\n",
    "from datetime import datetime\n",
    "from sklearn.preprocessing import MinMaxScaler\n",
    "from sklearn.model_selection import train_test_split\n",
    "from tqdm import tqdm \n",
    "from sklearn.cluster import KMeans, DBSCAN\n",
    "from sklearn.decomposition import PCA\n",
    "from sklearn.metrics import silhouette_score, silhouette_samples\n",
    "import copy\n",
    "import random\n",
    "from k_means_constrained import KMeansConstrained\n",
    "import pandas as pd\n",
    "import shap\n",
    "import time"
   ]
  },
  {
   "cell_type": "markdown",
   "id": "b160c07e",
   "metadata": {},
   "source": [
    "<a id=\"2\"></a>\n",
    "\n",
    "### Read in and Preprocess Data"
   ]
  },
  {
   "cell_type": "code",
   "execution_count": 2,
   "id": "137fdedd",
   "metadata": {},
   "outputs": [],
   "source": [
    "query_1 = pd.read_csv('/home/tom/Documents/ParlayPlay/Data_pulled_24_jan/query_1.csv')\n",
    "query_2 = pd.read_csv('/home/tom/Documents/ParlayPlay/Data_pulled_24_jan/query_2.csv')\n",
    "query_3 = pd.read_csv('/home/tom/Documents/ParlayPlay/Data_pulled_24_jan/query_3.csv')\n",
    "query_4 = pd.read_csv('/home/tom/Documents/ParlayPlay/Data_pulled_24_jan/query_4.csv')\n",
    "query_5 = pd.read_csv('/home/tom/Documents/ParlayPlay/Data_pulled_24_jan/query_5.csv')\n",
    "query_6 = pd.read_csv('/home/tom/Documents/ParlayPlay/Data_pulled_24_jan/query_6.csv')\n",
    "new_coupon_data = pd.read_csv('/home/tom/Documents/ParlayPlay/Data_pulled_24_jan/new_coupon_desg_data.csv')"
   ]
  },
  {
   "cell_type": "code",
   "execution_count": 3,
   "id": "4ae0c0f4",
   "metadata": {},
   "outputs": [],
   "source": [
    "df_raw = pd.merge(query_1, query_2, how='left', left_on='id', right_on = 'username_id')\n",
    "df_raw = pd.merge(df_raw, query_3, how='left', on='username')\n",
    "df_raw = pd.merge(df_raw, query_4, how='left', on='id')\n",
    "df_raw = pd.merge(df_raw, query_5, how='left', left_on='id', right_on = 'username_id')\n",
    "df_raw = pd.merge(df_raw, query_6, how='left', on='username')\n",
    "df_raw = df_raw.drop(columns = ['coupon_designation'])\n",
    "df_raw = pd.merge(df_raw, new_coupon_data, how='left', on='username')"
   ]
  },
  {
   "cell_type": "code",
   "execution_count": 4,
   "id": "d8964f4a",
   "metadata": {},
   "outputs": [
    {
     "data": {
      "text/plain": [
       "(314731, 34)"
      ]
     },
     "execution_count": 4,
     "metadata": {},
     "output_type": "execute_result"
    }
   ],
   "source": [
    "df_raw.shape"
   ]
  },
  {
   "cell_type": "markdown",
   "id": "2b3f65f3",
   "metadata": {},
   "source": [
    "As discussed in my essay, we only take ftd users."
   ]
  },
  {
   "cell_type": "code",
   "execution_count": 5,
   "id": "f52cc0c0",
   "metadata": {},
   "outputs": [],
   "source": [
    "df_ftd_raw = df_raw[df_raw['is_ftd'] == True]"
   ]
  },
  {
   "cell_type": "markdown",
   "id": "13b3739d",
   "metadata": {},
   "source": [
    "Replace missing values with 0"
   ]
  },
  {
   "cell_type": "code",
   "execution_count": 6,
   "id": "d5464f65",
   "metadata": {},
   "outputs": [],
   "source": [
    "df_ftd_raw = df_ftd_raw.fillna(0)"
   ]
  },
  {
   "cell_type": "markdown",
   "id": "3083e42d",
   "metadata": {},
   "source": [
    "We decided to take those who had missing coupons to be classed as ``Unattirbuted\""
   ]
  },
  {
   "cell_type": "code",
   "execution_count": 7,
   "id": "97cc5db6",
   "metadata": {},
   "outputs": [],
   "source": [
    "def change_to_unattributed(x):\n",
    "    if x == 0:\n",
    "        return \"Unattributed\"\n",
    "    else: return x"
   ]
  },
  {
   "cell_type": "code",
   "execution_count": 8,
   "id": "5e0c4277",
   "metadata": {},
   "outputs": [],
   "source": [
    "df_ftd_raw['coupon_designation'] = df_ftd_raw['coupon_designation'].apply(lambda x: change_to_unattributed(x))"
   ]
  },
  {
   "cell_type": "code",
   "execution_count": 9,
   "id": "a5bea341",
   "metadata": {},
   "outputs": [
    {
     "data": {
      "text/plain": [
       "coupon_designation\n",
       "Unattributed    48425\n",
       "Influencer      11684\n",
       "referral         9460\n",
       "Paid Digital     8619\n",
       "Programmatic     5199\n",
       "Facebook         4517\n",
       "Apple            1602\n",
       "Affiliate        1388\n",
       "TikTok            955\n",
       "Offline           399\n",
       "Name: count, dtype: int64"
      ]
     },
     "execution_count": 9,
     "metadata": {},
     "output_type": "execute_result"
    }
   ],
   "source": [
    "df_ftd_raw['coupon_designation'].value_counts()"
   ]
  },
  {
   "cell_type": "markdown",
   "id": "423620c2",
   "metadata": {},
   "source": [
    "Store a copy of the raw data for analysis later"
   ]
  },
  {
   "cell_type": "code",
   "execution_count": 10,
   "id": "52d6ba47",
   "metadata": {},
   "outputs": [],
   "source": [
    "df_ftd_pre_encoding = df_ftd_raw.copy()"
   ]
  },
  {
   "cell_type": "markdown",
   "id": "84a1be2f",
   "metadata": {},
   "source": [
    "To increase the influence of the LTV and contest count, place these columns into bins."
   ]
  },
  {
   "cell_type": "code",
   "execution_count": 11,
   "id": "53a27ebf",
   "metadata": {},
   "outputs": [],
   "source": [
    "ltv_bins = [-1000000, -0.1, 0, 25, 50, 100, 1000, 1000000] \n",
    "\n",
    "df_ftd_raw['ltv_binned'] = pd.cut(df_ftd_raw['net_cash'], ltv_bins)"
   ]
  },
  {
   "cell_type": "code",
   "execution_count": 12,
   "id": "b3d4e489",
   "metadata": {},
   "outputs": [],
   "source": [
    "contest_count_bins = [-1, 0, 5, 10, 50, 100, 250, 100000]\n",
    "\n",
    "df_ftd_raw['contest_count_binned'] = pd.cut(df_ftd_raw['contest_count'], contest_count_bins)"
   ]
  },
  {
   "cell_type": "code",
   "execution_count": 13,
   "id": "8c946a07",
   "metadata": {},
   "outputs": [],
   "source": [
    "df_ftd_raw = df_ftd_raw.drop(columns = ['contest_count', 'net_cash'])"
   ]
  },
  {
   "cell_type": "markdown",
   "id": "28508da5",
   "metadata": {},
   "source": [
    "Preprocess the data: removing superfluous colums, converting the categorical data to one hot encoding and normalising columns via the min max scaler."
   ]
  },
  {
   "cell_type": "code",
   "execution_count": 14,
   "id": "73ef02e0",
   "metadata": {},
   "outputs": [],
   "source": [
    "def preprocessing(df_sub, df_ftd_pre_encoding):\n",
    "    \n",
    "    # drop columns\n",
    "    cols2rem = ['id', 'is_ftd', 'username', 'dob', 'customer_id', 'experience_level', 'created_est', 'username_id_x', \n",
    "       'username_id_y', 'max_contest_created', 'max_pick_date_diff', 'av_pick_date_diff']\n",
    "    \n",
    "    df = df_sub.drop(cols2rem, axis = 1)\n",
    "    \n",
    "    df_ftd_pre_encoding = df_ftd_pre_encoding.drop(cols2rem, axis = 1)\n",
    "        \n",
    "     \n",
    "      # fill nans from non ftds\n",
    "    #df = df.fillna(0)\n",
    "          \n",
    "    # encode the categorical data\n",
    "\n",
    "    df = pd.get_dummies(df, columns=cat_data, prefix=cat_data, dtype=int)\n",
    "    \n",
    "    # normalise numerical data\n",
    "    num_data = df.columns[:20]\n",
    "    \n",
    "    min_max = MinMaxScaler()\n",
    "    df[num_data] = min_max.fit_transform(df[num_data])\n",
    "    df = df.drop(columns=['depositAmount'])\n",
    "    \n",
    "    return df, df_ftd_pre_encoding"
   ]
  },
  {
   "cell_type": "code",
   "execution_count": 15,
   "id": "7c9ecd44",
   "metadata": {},
   "outputs": [],
   "source": [
    "cat_data = ['is_limited', 'sign_up_time', 'result', 'coupon_designation', 'contest_count_binned', 'ltv_binned']\n",
    "\n",
    "\n",
    "df_ftd, df_ftd_pre_encoding  = preprocessing(df_ftd_raw, df_ftd_pre_encoding)"
   ]
  },
  {
   "cell_type": "code",
   "execution_count": 16,
   "id": "ee86f889",
   "metadata": {},
   "outputs": [
    {
     "data": {
      "text/html": [
       "<div>\n",
       "<style scoped>\n",
       "    .dataframe tbody tr th:only-of-type {\n",
       "        vertical-align: middle;\n",
       "    }\n",
       "\n",
       "    .dataframe tbody tr th {\n",
       "        vertical-align: top;\n",
       "    }\n",
       "\n",
       "    .dataframe thead th {\n",
       "        text-align: right;\n",
       "    }\n",
       "</style>\n",
       "<table border=\"1\" class=\"dataframe\">\n",
       "  <thead>\n",
       "    <tr style=\"text-align: right;\">\n",
       "      <th></th>\n",
       "      <th>age</th>\n",
       "      <th>num_referrals</th>\n",
       "      <th>num_insured</th>\n",
       "      <th>total_amount</th>\n",
       "      <th>average_entry_amount</th>\n",
       "      <th>average_nr_of_picks</th>\n",
       "      <th>GGR</th>\n",
       "      <th>withdrawalAmount</th>\n",
       "      <th>num_deposits</th>\n",
       "      <th>av_deposit_amount</th>\n",
       "      <th>...</th>\n",
       "      <th>contest_count_binned_(50, 100]</th>\n",
       "      <th>contest_count_binned_(100, 250]</th>\n",
       "      <th>contest_count_binned_(250, 100000]</th>\n",
       "      <th>ltv_binned_(-1000000.0, -0.1]</th>\n",
       "      <th>ltv_binned_(-0.1, 0.0]</th>\n",
       "      <th>ltv_binned_(0.0, 25.0]</th>\n",
       "      <th>ltv_binned_(25.0, 50.0]</th>\n",
       "      <th>ltv_binned_(50.0, 100.0]</th>\n",
       "      <th>ltv_binned_(100.0, 1000.0]</th>\n",
       "      <th>ltv_binned_(1000.0, 1000000.0]</th>\n",
       "    </tr>\n",
       "  </thead>\n",
       "  <tbody>\n",
       "    <tr>\n",
       "      <th>1</th>\n",
       "      <td>0.058824</td>\n",
       "      <td>0.000000</td>\n",
       "      <td>0.000000</td>\n",
       "      <td>0.000188</td>\n",
       "      <td>0.03000</td>\n",
       "      <td>0.277778</td>\n",
       "      <td>0.504177</td>\n",
       "      <td>1.000000</td>\n",
       "      <td>0.002212</td>\n",
       "      <td>0.100000</td>\n",
       "      <td>...</td>\n",
       "      <td>0</td>\n",
       "      <td>0</td>\n",
       "      <td>0</td>\n",
       "      <td>0</td>\n",
       "      <td>0</td>\n",
       "      <td>1</td>\n",
       "      <td>0</td>\n",
       "      <td>0</td>\n",
       "      <td>0</td>\n",
       "      <td>0</td>\n",
       "    </tr>\n",
       "    <tr>\n",
       "      <th>2</th>\n",
       "      <td>0.176471</td>\n",
       "      <td>0.233010</td>\n",
       "      <td>0.089087</td>\n",
       "      <td>0.040163</td>\n",
       "      <td>0.03348</td>\n",
       "      <td>0.311111</td>\n",
       "      <td>0.522367</td>\n",
       "      <td>0.999026</td>\n",
       "      <td>0.030973</td>\n",
       "      <td>0.037143</td>\n",
       "      <td>...</td>\n",
       "      <td>0</td>\n",
       "      <td>0</td>\n",
       "      <td>1</td>\n",
       "      <td>0</td>\n",
       "      <td>0</td>\n",
       "      <td>0</td>\n",
       "      <td>0</td>\n",
       "      <td>1</td>\n",
       "      <td>0</td>\n",
       "      <td>0</td>\n",
       "    </tr>\n",
       "    <tr>\n",
       "      <th>4</th>\n",
       "      <td>0.058824</td>\n",
       "      <td>0.038835</td>\n",
       "      <td>0.000000</td>\n",
       "      <td>0.000000</td>\n",
       "      <td>0.00000</td>\n",
       "      <td>0.000000</td>\n",
       "      <td>0.504533</td>\n",
       "      <td>0.994806</td>\n",
       "      <td>0.172566</td>\n",
       "      <td>0.034872</td>\n",
       "      <td>...</td>\n",
       "      <td>0</td>\n",
       "      <td>0</td>\n",
       "      <td>0</td>\n",
       "      <td>0</td>\n",
       "      <td>0</td>\n",
       "      <td>0</td>\n",
       "      <td>0</td>\n",
       "      <td>0</td>\n",
       "      <td>1</td>\n",
       "      <td>0</td>\n",
       "    </tr>\n",
       "    <tr>\n",
       "      <th>7</th>\n",
       "      <td>0.141176</td>\n",
       "      <td>0.194175</td>\n",
       "      <td>0.003712</td>\n",
       "      <td>0.005976</td>\n",
       "      <td>0.03228</td>\n",
       "      <td>0.233333</td>\n",
       "      <td>0.507630</td>\n",
       "      <td>1.000000</td>\n",
       "      <td>0.017699</td>\n",
       "      <td>0.037500</td>\n",
       "      <td>...</td>\n",
       "      <td>1</td>\n",
       "      <td>0</td>\n",
       "      <td>0</td>\n",
       "      <td>0</td>\n",
       "      <td>0</td>\n",
       "      <td>0</td>\n",
       "      <td>0</td>\n",
       "      <td>1</td>\n",
       "      <td>0</td>\n",
       "      <td>0</td>\n",
       "    </tr>\n",
       "    <tr>\n",
       "      <th>8</th>\n",
       "      <td>0.105882</td>\n",
       "      <td>0.048544</td>\n",
       "      <td>0.005939</td>\n",
       "      <td>0.004520</td>\n",
       "      <td>0.06260</td>\n",
       "      <td>0.290000</td>\n",
       "      <td>0.505838</td>\n",
       "      <td>1.000000</td>\n",
       "      <td>0.008850</td>\n",
       "      <td>0.035000</td>\n",
       "      <td>...</td>\n",
       "      <td>0</td>\n",
       "      <td>0</td>\n",
       "      <td>0</td>\n",
       "      <td>0</td>\n",
       "      <td>0</td>\n",
       "      <td>0</td>\n",
       "      <td>1</td>\n",
       "      <td>0</td>\n",
       "      <td>0</td>\n",
       "      <td>0</td>\n",
       "    </tr>\n",
       "  </tbody>\n",
       "</table>\n",
       "<p>5 rows × 49 columns</p>\n",
       "</div>"
      ],
      "text/plain": [
       "        age  num_referrals  num_insured  total_amount  average_entry_amount  \\\n",
       "1  0.058824       0.000000     0.000000      0.000188               0.03000   \n",
       "2  0.176471       0.233010     0.089087      0.040163               0.03348   \n",
       "4  0.058824       0.038835     0.000000      0.000000               0.00000   \n",
       "7  0.141176       0.194175     0.003712      0.005976               0.03228   \n",
       "8  0.105882       0.048544     0.005939      0.004520               0.06260   \n",
       "\n",
       "   average_nr_of_picks       GGR  withdrawalAmount  num_deposits  \\\n",
       "1             0.277778  0.504177          1.000000      0.002212   \n",
       "2             0.311111  0.522367          0.999026      0.030973   \n",
       "4             0.000000  0.504533          0.994806      0.172566   \n",
       "7             0.233333  0.507630          1.000000      0.017699   \n",
       "8             0.290000  0.505838          1.000000      0.008850   \n",
       "\n",
       "   av_deposit_amount  ...  contest_count_binned_(50, 100]  \\\n",
       "1           0.100000  ...                               0   \n",
       "2           0.037143  ...                               0   \n",
       "4           0.034872  ...                               0   \n",
       "7           0.037500  ...                               1   \n",
       "8           0.035000  ...                               0   \n",
       "\n",
       "   contest_count_binned_(100, 250]  contest_count_binned_(250, 100000]  \\\n",
       "1                                0                                   0   \n",
       "2                                0                                   1   \n",
       "4                                0                                   0   \n",
       "7                                0                                   0   \n",
       "8                                0                                   0   \n",
       "\n",
       "   ltv_binned_(-1000000.0, -0.1]  ltv_binned_(-0.1, 0.0]  \\\n",
       "1                              0                       0   \n",
       "2                              0                       0   \n",
       "4                              0                       0   \n",
       "7                              0                       0   \n",
       "8                              0                       0   \n",
       "\n",
       "   ltv_binned_(0.0, 25.0]  ltv_binned_(25.0, 50.0]  ltv_binned_(50.0, 100.0]  \\\n",
       "1                       1                        0                         0   \n",
       "2                       0                        0                         1   \n",
       "4                       0                        0                         0   \n",
       "7                       0                        0                         1   \n",
       "8                       0                        1                         0   \n",
       "\n",
       "   ltv_binned_(100.0, 1000.0]  ltv_binned_(1000.0, 1000000.0]  \n",
       "1                           0                               0  \n",
       "2                           0                               0  \n",
       "4                           1                               0  \n",
       "7                           0                               0  \n",
       "8                           0                               0  \n",
       "\n",
       "[5 rows x 49 columns]"
      ]
     },
     "execution_count": 16,
     "metadata": {},
     "output_type": "execute_result"
    }
   ],
   "source": [
    "df_ftd.head()"
   ]
  },
  {
   "cell_type": "code",
   "execution_count": 17,
   "id": "80a3241d",
   "metadata": {},
   "outputs": [],
   "source": [
    "df_ftd = df_ftd.fillna(0)"
   ]
  },
  {
   "cell_type": "code",
   "execution_count": 18,
   "id": "50888a9e",
   "metadata": {},
   "outputs": [
    {
     "data": {
      "text/plain": [
       "(92248, 49)"
      ]
     },
     "execution_count": 18,
     "metadata": {},
     "output_type": "execute_result"
    }
   ],
   "source": [
    "df_ftd.shape"
   ]
  },
  {
   "cell_type": "markdown",
   "id": "468fc91e",
   "metadata": {},
   "source": [
    "## Establishing Num Principal Compenents and the Most influential Columns of Each PC"
   ]
  },
  {
   "cell_type": "markdown",
   "id": "ae57fdcc",
   "metadata": {},
   "source": [
    "Due to one hot encoding the categorical data, the dimensionality will need to be reduced. The essay discusses multiple methods for this and here we implement PCA reduction, analysing the principal components. "
   ]
  },
  {
   "cell_type": "code",
   "execution_count": 19,
   "id": "73eb2d9a",
   "metadata": {},
   "outputs": [
    {
     "name": "stdout",
     "output_type": "stream",
     "text": [
      "Explained Variance for Number of Dimensions: \n",
      "           0\n",
      "0   0.164718\n",
      "1   0.096030\n",
      "2   0.091317\n",
      "3   0.082167\n",
      "4   0.073470\n",
      "5   0.064511\n",
      "6   0.053786\n",
      "7   0.043417\n",
      "8   0.038823\n",
      "9   0.034677\n",
      "10  0.032585\n",
      "11  0.031571\n",
      "12  0.029914\n",
      "13  0.025987\n",
      "14  0.023094\n",
      "\n",
      "Sum of variance for first 10 dimensions: \n",
      "0.7429157679138819\n",
      "\n",
      "Each PC's top 3 most influential columns: \n",
      "                                                                                            0\n",
      "0                                       [result_0, contest_count_binned_(-1, 0], result_lost]\n",
      "1                         [contest_count_binned_(10, 50], ltv_binned_(0.0, 25.0], result_won]\n",
      "2                        [sign_up_time_afternoon, sign_up_time_evening, sign_up_time_morning]\n",
      "3                                  [coupon_designation_Unattributed, result_won, result_lost]\n",
      "4                       [coupon_designation_Unattributed, ltv_binned_(0.0, 25.0], result_won]\n",
      "5                        [sign_up_time_morning, sign_up_time_evening, sign_up_time_afternoon]\n",
      "6       [contest_count_binned_(5, 10], contest_count_binned_(10, 50], ltv_binned_(0.0, 25.0]]\n",
      "7  [contest_count_binned_(0, 5], ltv_binned_(-1000000.0, -0.1], contest_count_binned_(5, 10]]\n",
      "8       [ltv_binned_(-1000000.0, -0.1], ltv_binned_(100.0, 1000.0], ltv_binned_(50.0, 100.0]]\n",
      "9         [ltv_binned_(50.0, 100.0], ltv_binned_(100.0, 1000.0], contest_count_binned_(0, 5]]\n"
     ]
    }
   ],
   "source": [
    "pca = PCA(n_components=15)\n",
    "pca.fit(df_ftd)\n",
    "explained_variance = pd.DataFrame(pca.explained_variance_ratio_)\n",
    "print(\"Explained Variance for Number of Dimensions: \")\n",
    "print(explained_variance)\n",
    "print(\"\\nSum of variance for first 10 dimensions: \")\n",
    "print(explained_variance[:10].sum()[0])\n",
    "\n",
    "column_influence = pd.DataFrame(pca.components_, columns = df_ftd.columns)\n",
    "top_3_cols = pd.DataFrame(column_influence.apply(lambda x: x.abs().nlargest(3).index.tolist(), axis=1))\n",
    "print(\"\\nEach PC's top 3 most influential columns: \")\n",
    "print(top_3_cols.head(10).to_string())"
   ]
  },
  {
   "cell_type": "markdown",
   "id": "775885a0",
   "metadata": {},
   "source": [
    "## Find Number of Clusters"
   ]
  },
  {
   "cell_type": "markdown",
   "id": "cecde5f7",
   "metadata": {},
   "source": [
    "To find the number of clusters, we analyse the inertia for different values of K. As discussed in the essay, we take the value of K to be the flattening of the curve (known as the \"Elbow Method\")."
   ]
  },
  {
   "cell_type": "code",
   "execution_count": 20,
   "id": "12b5d181",
   "metadata": {},
   "outputs": [],
   "source": [
    "def find_num_clusters(df, start, end, is_constrained = False):\n",
    "    cluster_inertia = []\n",
    "\n",
    "    for i in range(int(start),int(end)):\n",
    "        \n",
    "        if is_constrained == False:\n",
    "            kmeans = KMeans(n_clusters=i, n_init=10, random_state=0)\n",
    "        else:\n",
    "            kmeans = KMeansConstrained(n_clusters=i, size_min=200, n_init=10, random_state=0)\n",
    "\n",
    "        kmeans.fit(df)\n",
    "        cluster_inertia.append(kmeans.inertia_)\n",
    "\n",
    "\n",
    "    plt.plot(range(int(start),int(end)), cluster_inertia)\n",
    "    plt.ylabel(\"Metric for Effectiveness Clustering\")\n",
    "    plt.xlabel(\"Number of Clusters\")\n",
    "    plt.title(\"Change in Effectiveness of Clustering Based on Number of Clusters\")\n",
    "    plt.show()"
   ]
  },
  {
   "cell_type": "markdown",
   "id": "c1c72fac",
   "metadata": {},
   "source": [
    "To find the value for K of the normal KMeans:"
   ]
  },
  {
   "cell_type": "code",
   "execution_count": 22,
   "id": "7034cf08",
   "metadata": {},
   "outputs": [
    {
     "data": {
      "image/png": "[encoded data removed]",
      "text/plain": [
       "<Figure size 640x480 with 1 Axes>"
      ]
     },
     "metadata": {},
     "output_type": "display_data"
    }
   ],
   "source": [
    "find_num_clusters(df_ftd, 1, 30, is_constrained = False)"
   ]
  },
  {
   "cell_type": "markdown",
   "id": "1f0a51e1",
   "metadata": {},
   "source": [
    "To find the value of K for the Constrained KMeans:"
   ]
  },
  {
   "cell_type": "code",
   "execution_count": 21,
   "id": "5422479c",
   "metadata": {},
   "outputs": [
    {
     "data": {
      "image/png": "[encoded data removed]",
      "text/plain": [
       "<Figure size 640x480 with 1 Axes>"
      ]
     },
     "metadata": {},
     "output_type": "display_data"
    }
   ],
   "source": [
    "find_num_clusters(df_ftd, 1, 30, is_constrained = True)"
   ]
  },
  {
   "cell_type": "markdown",
   "id": "2e7e3ec4",
   "metadata": {},
   "source": [
    "<a id=\"3\"></a>\n",
    "\n",
    "## Split Data into Batches"
   ]
  },
  {
   "cell_type": "markdown",
   "id": "5323ae8c",
   "metadata": {},
   "source": [
    "In order to use deep learning methods, we need to split our data into different batches. Due to the size of our data, we chose a batch size of 64 to sufficiently update parameters per batch without significantly impacting running time."
   ]
  },
  {
   "cell_type": "code",
   "execution_count": 19,
   "id": "ac4a96c6",
   "metadata": {},
   "outputs": [],
   "source": [
    "batch_size = 64"
   ]
  },
  {
   "cell_type": "code",
   "execution_count": 20,
   "id": "dd20b016",
   "metadata": {},
   "outputs": [],
   "source": [
    "def prepare_data(df_ftd):\n",
    "    train_batches = []\n",
    "    validation = []\n",
    "    test = []\n",
    "    \n",
    "    X_train, X_val, y_train, y_val = train_test_split(df_ftd, df_ftd, test_size=0.2, random_state=42)\n",
    "\n",
    "    X_test, X_val, y_test, y_val = train_test_split(X_val, y_val, test_size=0.5, random_state=42)\n",
    "\n",
    "    for i in range(0, len(X_train), batch_size):\n",
    "        train_batches.append((X_train[i:i+batch_size, :].astype(np.float32), y_train[i:i+batch_size, :].astype(np.float32)))\n",
    "        \n",
    "    for i in range(len(X_val)):\n",
    "        validation.append((X_val[i, :].astype(np.float32), y_val[i,:].astype(np.float32)))\n",
    "        \n",
    "    for i in range(len(X_test)):\n",
    "        test.append((X_test[i, :].astype(np.float32), y_test[i,:].astype(np.float32)))\n",
    "        \n",
    "        \n",
    "    return train_batches, validation, test"
   ]
  },
  {
   "cell_type": "code",
   "execution_count": 21,
   "id": "1e4290f5",
   "metadata": {},
   "outputs": [],
   "source": [
    "initial_train_batches, initial_val, initial_test = prepare_data(np.array(df_ftd))"
   ]
  },
  {
   "cell_type": "code",
   "execution_count": 22,
   "id": "4d27e852",
   "metadata": {},
   "outputs": [
    {
     "data": {
      "text/plain": [
       "(64, 49)"
      ]
     },
     "execution_count": 22,
     "metadata": {},
     "output_type": "execute_result"
    }
   ],
   "source": [
    "initial_train_batches[1][1].shape"
   ]
  },
  {
   "cell_type": "markdown",
   "id": "db3776bd",
   "metadata": {},
   "source": [
    "## Pre-Training Loop"
   ]
  },
  {
   "cell_type": "markdown",
   "id": "e26e3984",
   "metadata": {},
   "source": [
    "To reduce over-fitting and improve the model's learning, the batches are shuffled both within batches and between batches."
   ]
  },
  {
   "cell_type": "code",
   "execution_count": 23,
   "id": "ff8de21c",
   "metadata": {},
   "outputs": [],
   "source": [
    "def shuffle(x):\n",
    "    random.shuffle(x)\n",
    "    for i, j in x:\n",
    "        k = list(zip(i, j))\n",
    "        random.shuffle(k)\n",
    "        i, j = zip(*k)\n",
    "    return x"
   ]
  },
  {
   "cell_type": "markdown",
   "id": "78f70acf",
   "metadata": {},
   "source": [
    "We define our first training loop here responsible for pre-training the auto-encoder. We use MSE loss and Adam optimiser with an initial learning rate of 0.001. We also add delayed early stopping to help prevent overfitting. Specifically, after 10 epochs we see if the validation loss has decreased less than a threshold $\\epsilon$ of the original validation loss. We return the training and validation loss."
   ]
  },
  {
   "cell_type": "code",
   "execution_count": 53,
   "id": "d3c71c6d",
   "metadata": {},
   "outputs": [],
   "source": [
    "def training_loop_non_KL(num_epochs, model, input_data_train, input_data_validation, input_data_test, eps):\n",
    "    \n",
    "    learning_rate = 0.001\n",
    "    loss_function = nn.MSELoss()\n",
    "    optimizer = optim.Adam(model.parameters(), lr=learning_rate)\n",
    "\n",
    "    training_loss = []\n",
    "    validation_loss = []\n",
    "    av_time = []\n",
    "\n",
    "    for epoch in range(num_epochs):\n",
    "        start = time.time()\n",
    "        running_loss = 0.0\n",
    "\n",
    "        model.train()\n",
    "        \n",
    "        batch_latent_space_train = []\n",
    "        batch_output_train = []\n",
    "        \n",
    "        input_data_train = shuffle(input_data_train)\n",
    "\n",
    "            \n",
    "        for X, y_true in input_data_train:\n",
    "                \n",
    "\n",
    "                optimizer.zero_grad()\n",
    "\n",
    "                X = torch.tensor(X).to(torch.float32)\n",
    "\n",
    "                y_pred, latent_space_train = model(X)\n",
    "                \n",
    "\n",
    "                y_true = torch.tensor(y_true).to(torch.float32)\n",
    "\n",
    "                loss = loss_function(y_pred, y_true)\n",
    "\n",
    "                loss.backward()\n",
    "                optimizer.step()\n",
    "\n",
    "                running_loss += loss.item()\n",
    "                \n",
    "                batch_latent_space_train.append(latent_space_train)\n",
    "                batch_output_train.append(y_pred)\n",
    "\n",
    "        average_loss = running_loss / len(input_data_train)\n",
    "        #print(f\"Epoch {epoch + 1}/{num_epochs}, Loss: {average_loss}\")\n",
    "        training_loss.append(average_loss)\n",
    "\n",
    "        # Validation loop\n",
    "        model.eval()  # Set the model to evaluation mode\n",
    "        val_loss = 0.0\n",
    "        with torch.no_grad():\n",
    "\n",
    "            batch_latent_space_val = []\n",
    "            batch_output_val = []\n",
    "\n",
    "            for X_val, y_true_val in input_data_validation:\n",
    "\n",
    "                X_val = torch.tensor(X_val).to(torch.float32)\n",
    "\n",
    "                y_pred_val, latent_space_validation = model(X_val)\n",
    "\n",
    "                y_true_val = torch.tensor(y_true_val).to(torch.float32)\n",
    "\n",
    "                loss = loss_function(y_pred_val, y_true_val)\n",
    "                val_loss += loss.item()\n",
    "                \n",
    "                batch_latent_space_val.append(latent_space_validation)\n",
    "                batch_output_val.append(y_pred_val)\n",
    "\n",
    "\n",
    "        # Print the validation loss for the epoch.\n",
    "        average_val_loss = val_loss / len(input_data_validation)\n",
    "        #print(f\"Validation Loss: {average_val_loss} \\n\")\n",
    "        validation_loss.append(average_val_loss)\n",
    "        \n",
    "        if epoch == 0:\n",
    "            min_dev_loss = average_val_loss\n",
    "            dev_loss_counter = 0\n",
    "            model_store = copy.deepcopy(model)\n",
    "        else:\n",
    "            if epoch > 10:\n",
    "                if average_val_loss > min_dev_loss * (1 - eps):\n",
    "                    dev_loss_counter += 1\n",
    "                    if dev_loss_counter > 5:\n",
    "\n",
    "                        #print(\"Early Stopping\")\n",
    "                        model = model_store\n",
    "                        break\n",
    "                else:\n",
    "\n",
    "                    min_dev_loss = average_val_loss\n",
    "                    dev_loss_counter = 0\n",
    "        end = time.time()\n",
    "        av_time.append((end - start))\n",
    "        \n",
    "    # Testing loop\n",
    "    model.eval()  # Set the model to evaluation mode\n",
    "    test_loss = 0.0\n",
    "    with torch.no_grad():\n",
    "        \n",
    "        batch_latent_space_test = []\n",
    "        batch_output_test = []\n",
    "\n",
    "        for X_test, y_true_test in input_data_test:\n",
    "\n",
    "            X_test = torch.tensor(X_test).to(torch.float32)\n",
    "\n",
    "            y_pred_test, latent_space_test = model(X_test)\n",
    "            \n",
    "            y_true_test = torch.tensor(y_true_test).to(torch.float32)\n",
    "\n",
    "            loss = loss_function(y_pred_test, y_true_test)\n",
    "\n",
    "            test_loss += loss.item()\n",
    "            \n",
    "            batch_latent_space_test.append(latent_space_test)\n",
    "            batch_output_test.append(y_pred_test)\n",
    "\n",
    "\n",
    "    # Print the average test loss\n",
    "    average_test_loss = test_loss / len(input_data_test)\n",
    "    #print(f\"Average Test Loss: {average_test_loss}\")\n",
    "    print(np.mean(av_time))\n",
    "    \n",
    "    return training_loss, validation_loss"
   ]
  },
  {
   "cell_type": "markdown",
   "id": "5855e525",
   "metadata": {},
   "source": [
    "## AE"
   ]
  },
  {
   "cell_type": "markdown",
   "id": "3a8ebe0d",
   "metadata": {},
   "source": [
    "We define our Auto-Encoder models here. The first is the linear model with one hidden layer and the second is the deep model with three hidden layers, relu activation and dropout."
   ]
  },
  {
   "cell_type": "code",
   "execution_count": 26,
   "id": "88a66003",
   "metadata": {},
   "outputs": [],
   "source": [
    "class linear_AE(nn.Module):\n",
    "    \n",
    "    def __init__(self, embedding_size, latent_size):\n",
    "        super(linear_AE, self).__init__()\n",
    "        \n",
    "        self.encode_linear_1 = nn.Linear(embedding_size, latent_size)\n",
    "        self.decode_linear_1 = nn.Linear(latent_size, embedding_size)\n",
    "        \n",
    "    def encode(self, X):\n",
    "        encoded_X = self.encode_linear_1(X)\n",
    "        return encoded_X\n",
    "    \n",
    "    def decode(self, X):\n",
    "        decoded_X = self.decode_linear_1(X)\n",
    "        return decoded_X\n",
    "    \n",
    "    def forward(self, X):\n",
    "        latent_layer = self.encode(X)\n",
    "        output = self.decode(latent_layer)\n",
    "        return output, latent_layer"
   ]
  },
  {
   "cell_type": "code",
   "execution_count": 27,
   "id": "121a1253",
   "metadata": {},
   "outputs": [],
   "source": [
    "class deep_AE(nn.Module):\n",
    "    \n",
    "    def __init__(self, embedding_size, latent_size, dropout):\n",
    "        super(deep_AE, self).__init__()\n",
    "        \n",
    "        self.encode_linear_1 = nn.Linear(embedding_size, embedding_size)\n",
    "        self.encode_linear_2 = nn.Linear(embedding_size, latent_size)\n",
    "        \n",
    "        self.decode_linear_2 = nn.Linear(latent_size, embedding_size)\n",
    "        self.decode_linear_1 = nn.Linear(embedding_size, embedding_size)\n",
    "        \n",
    "        self.dropout = nn.Dropout(dropout)\n",
    "        self.relu = nn.ReLU()\n",
    "        \n",
    "    def encode(self, X):\n",
    "        encoded_X = self.relu(self.encode_linear_1(self.dropout(X)))\n",
    "        encoded_X = self.encode_linear_2(self.dropout(encoded_X))\n",
    "        return encoded_X\n",
    "    \n",
    "    def decode(self, X):\n",
    "        decoded_X = self.relu(self.decode_linear_2(self.dropout(X)))\n",
    "        decoded_X = self.decode_linear_1(self.dropout(decoded_X))\n",
    "        return decoded_X\n",
    "    \n",
    "    def forward(self, X):\n",
    "        latent_layer = self.encode(X)\n",
    "        output = self.decode(latent_layer)\n",
    "        return output, latent_layer"
   ]
  },
  {
   "cell_type": "markdown",
   "id": "ce061490",
   "metadata": {},
   "source": [
    "<a id=\"9\"></a>\n",
    "\n",
    "## KL Fine-Tuning"
   ]
  },
  {
   "cell_type": "markdown",
   "id": "eae5698a",
   "metadata": {},
   "source": [
    "<a id=\"10\"></a>\n",
    "\n",
    "### Define Ensemble Encoder Model"
   ]
  },
  {
   "cell_type": "markdown",
   "id": "95051a51",
   "metadata": {},
   "source": [
    "We take only the encoder section of our Auto-Encoder. This is the part that will be fine-tuned with the deep clustering."
   ]
  },
  {
   "cell_type": "code",
   "execution_count": 28,
   "id": "7f945933",
   "metadata": {},
   "outputs": [],
   "source": [
    "class Ensembled_Encoder(nn.Module):\n",
    "    \n",
    "    def __init__(self, model):\n",
    "        super(Ensembled_Encoder, self).__init__()\n",
    "        self.model = model\n",
    "        \n",
    "       \n",
    "    def forward(self, X):\n",
    "        \n",
    "        enc_X = self.model.encode(X)\n",
    "        return enc_X"
   ]
  },
  {
   "cell_type": "markdown",
   "id": "b6bebd9a",
   "metadata": {},
   "source": [
    "<a id=\"11\"></a>\n",
    "\n",
    "### Define Soft Assignment and Target Distribution Function"
   ]
  },
  {
   "cell_type": "markdown",
   "id": "0a4fe215",
   "metadata": {},
   "source": [
    "Within the deep clustering algorithm, we need to create a probability distribution over the embedded points - students t-distribution (discussed in the essay). Here we define two functions to do this with varying target distributions. The \"make_P_and_Q\" implements the standard distribution used in literature whilst the \"make_label_P_Q\" implements the delta distribution."
   ]
  },
  {
   "cell_type": "code",
   "execution_count": 29,
   "id": "a122fcdb",
   "metadata": {},
   "outputs": [],
   "source": [
    "softmax = nn.Softmax(dim=0)"
   ]
  },
  {
   "cell_type": "code",
   "execution_count": 30,
   "id": "e5f6efb4",
   "metadata": {},
   "outputs": [],
   "source": [
    "def make_P_and_Q(pred, centres):\n",
    "      \n",
    "    centres_broadcasted = centres.unsqueeze(0).expand(pred.size(0), -1, -1)\n",
    "    \n",
    "    q_numerator = 1/(1+torch.norm(pred.unsqueeze(1) - centres_broadcasted, dim=2)**2)   \n",
    "    Q = q_numerator / q_numerator.sum(dim=1, keepdim=True)\n",
    "    \n",
    "    soft_cluster_frequencies = Q.sum(dim=0)\n",
    "    p_numerator = Q**2/soft_cluster_frequencies\n",
    "    P = p_numerator / p_numerator.sum(dim=1, keepdim=True)\n",
    "\n",
    "    return P, Q"
   ]
  },
  {
   "cell_type": "code",
   "execution_count": 31,
   "id": "94b62b10",
   "metadata": {},
   "outputs": [],
   "source": [
    "def make_label_P_Q(pred, centres, init_labels, num_clusters):\n",
    "    \n",
    "    centres_broadcasted = centres.unsqueeze(0).expand(pred.size(0), -1, -1)\n",
    "    \n",
    "    q_numerator = 1/(1+torch.norm(pred.unsqueeze(1) - centres_broadcasted, dim=2)**2)   \n",
    "    Q = q_numerator / q_numerator.sum(dim=1, keepdim=True)\n",
    "        \n",
    "    \n",
    "    P = np.zeros((init_labels.shape[0], num_clusters))\n",
    "    \n",
    "    for i in range(P.shape[0]):\n",
    "        P[i, init_labels[i]] = 1\n",
    "        \n",
    "    P = torch.tensor(P).float()\n",
    "    \n",
    " \n",
    "    return P, Q\n",
    "    "
   ]
  },
  {
   "cell_type": "markdown",
   "id": "1af6ef0d",
   "metadata": {},
   "source": [
    "<a id=\"12\"></a>\n",
    "\n",
    "### Define Training Loop"
   ]
  },
  {
   "cell_type": "markdown",
   "id": "aa51cce2",
   "metadata": {},
   "source": [
    "This training loop is for fine-tuning the encoder part of the pre-trained autoencoder. There are various cases covered within this function: using the standard distribution, delta distribution as well as a combination of the two. As in literature, we use SGD with momentum as our optimisation. We also implement early stopping with respect to the inertia. Both distributions work particularly well at reducing inertia and so we implemented early stopping with respect to inertia - stopping after 3 instances of increased inertia. \n",
    "\n",
    "The standard distribution uses the kmeans trained at the start of each epoch to provide the centres from which we use the student t-distribution to create a probablity distribution. These two distributions are then compared using the KL loss and parameters are updated. \n",
    "\n",
    "The delta distribution uses the kmeans trained in each epoch for the cluster centres as well as providing nearest cluster labels (kmeans.predict) for each data point. From these, we use the delta-distribution to create a probability distribution. \n",
    "\n",
    "The combination of these two methods uses the sum of these two losses to update parameters. This method is not used in the final results but could be an interesting route for further analysis. "
   ]
  },
  {
   "cell_type": "code",
   "execution_count": 54,
   "id": "5af575ed",
   "metadata": {},
   "outputs": [],
   "source": [
    "def training_loop_KL(eps, num_epochs, model, num_clusters, input_data_train, input_data_validation, input_data_test, use_original = None, use_labels = None):\n",
    "\n",
    "    kl_loss = nn.KLDivLoss(reduction=\"batchmean\")\n",
    "    optimizer = torch.optim.SGD(model.parameters(), lr=0.1, momentum=0.9)\n",
    "    \n",
    "    training_loss = []\n",
    "    validation_loss = []\n",
    "    av_time = []\n",
    "    \n",
    "    latent_space = model(torch.from_numpy(df_ftd.to_numpy().astype(np.float32)).to(torch.float32)).detach().numpy()\n",
    "    \n",
    "    kmeans = KMeans(n_clusters=num_clusters, n_init='auto').fit(latent_space)\n",
    "    \n",
    "    stored_inertia = kmeans.inertia_\n",
    "        \n",
    "    init_centres = kmeans.cluster_centers_\n",
    "    \n",
    "    centres = torch.Tensor(init_centres)\n",
    "    \n",
    "    old_labels = kmeans.labels_\n",
    "           \n",
    "    for epoch in range(num_epochs):\n",
    "        start = time.time()\n",
    "        running_loss = 0.0\n",
    "\n",
    "        model.train()\n",
    "        \n",
    "        batch_output_train = []\n",
    "        \n",
    "        input_data_train = shuffle(input_data_train)\n",
    "\n",
    "        for X, y_true in input_data_train:\n",
    "\n",
    "                optimizer.zero_grad()\n",
    "\n",
    "                X = torch.tensor(X).to(torch.float32)\n",
    "                \n",
    "                y_pred = model(X) \n",
    "                \n",
    "                y_pred_detach = y_pred.clone().detach().numpy()\n",
    "                                                          \n",
    "                if use_original == True and use_labels == False:\n",
    "                    \n",
    "                    P, Q = make_P_and_Q(y_pred, centres) \n",
    "                                \n",
    "                    loss_original = kl_loss(torch.log(Q), P)\n",
    "\n",
    "                    loss_original.backward()\n",
    "\n",
    "                    optimizer.step()\n",
    "\n",
    "                    running_loss += loss_original.item()\n",
    "                    \n",
    "                elif use_original == False and use_labels == True:\n",
    "                    \n",
    "                    labels = kmeans.predict(y_pred_detach) \n",
    "                    \n",
    "                    P_label, Q_label = make_label_P_Q(y_pred, centres, labels, num_clusters)               \n",
    "                \n",
    "                    loss_label = kl_loss(torch.log(Q_label), P_label)\n",
    "\n",
    "                    loss_label.backward()\n",
    "\n",
    "                    optimizer.step()\n",
    "\n",
    "                    running_loss += loss_label.item()\n",
    "                    \n",
    "                elif use_original == True and use_labels == True:\n",
    "                    \n",
    "                    labels = kmeans.predict(y_pred_detach) \n",
    "                    \n",
    "                    P_label, Q_label = make_label_P_Q(y_pred, centres, labels, num_clusters) \n",
    "                \n",
    "                    P_original, Q_original = make_P_and_Q(y_pred, centres)\n",
    "\n",
    "                    loss_label = kl_loss(torch.log(Q_label), P_label)\n",
    "\n",
    "                    loss_original = kl_loss(torch.log(Q_original), P_original)\n",
    "\n",
    "                    loss_label.backward(retain_graph = True)\n",
    "                    loss_original.backward(retain_graph = True)\n",
    "\n",
    "                    optimizer.step()\n",
    "\n",
    "                    running_loss += (loss_label + loss_original).item()\n",
    "                \n",
    "                else: \n",
    "                    \n",
    "                    return \"Not Possible: Please select True for at least one\"\n",
    "\n",
    "    \n",
    "        average_loss = running_loss / len(input_data_train)\n",
    "        #print(f\"Epoch {epoch + 1}/{num_epochs}, Loss: {average_loss}\")\n",
    "        training_loss.append(average_loss)\n",
    "        \n",
    "        #print(average_loss)\n",
    "        \n",
    "        # Validation loop\n",
    "        model.eval()  # Set the model to evaluation mode\n",
    "        val_loss = 0.0\n",
    "        with torch.no_grad():\n",
    "\n",
    "            batch_output_val = []\n",
    "\n",
    "            for X_val, y_true_val in input_data_validation:\n",
    "\n",
    "                X_val = torch.tensor(X_val).to(torch.float32)\n",
    "\n",
    "                y_pred_val = model(X_val)\n",
    "                \n",
    "                y_pred_val = y_pred_val.unsqueeze(0)\n",
    "                                \n",
    "                y_pred_detach_val = y_pred_val.clone().detach().numpy()    \n",
    "                \n",
    "                if use_original == True and use_labels == False:      \n",
    "                                      \n",
    "                    P_val, Q_val = make_P_and_Q(y_pred_val, centres)\n",
    "\n",
    "                    loss_val_original = kl_loss(torch.log(Q_val), P_val)\n",
    "\n",
    "                    val_loss += loss_val_original.item()\n",
    "                \n",
    "                elif use_original == False and use_labels == True:\n",
    "                    \n",
    "                    labels_val = kmeans.predict(y_pred_detach_val) \n",
    "                    \n",
    "                    P_val_labels, Q_val_labels = make_label_P_Q(y_pred_val, centres, labels_val, num_clusters)\n",
    "                                                               \n",
    "                    loss_val_labels = kl_loss(torch.log(Q_val_labels), P_val_labels)\n",
    "\n",
    "                    val_loss += loss_val_labels.item()\n",
    "                    \n",
    "                elif use_original == True and use_labels == True:\n",
    "                    \n",
    "                    labels_val = kmeans.predict(y_pred_detach_val)\n",
    "                    \n",
    "                    P_val_labels, Q_val_labels = make_label_P_Q(y_pred_val, centres, labels_val, num_clusters)\n",
    "                                                          \n",
    "                    P_val_original, Q_val_original = make_P_and_Q(y_pred_val, centres)\n",
    "\n",
    "                    loss_val_labels = kl_loss(torch.log(Q_val_labels), P_val_labels)\n",
    "\n",
    "                    loss_val_original = kl_loss(torch.log(Q_val_original), P_val_original)\n",
    "\n",
    "                    val_loss += (loss_val_labels + loss_val_original).item()\n",
    "                \n",
    "                else:\n",
    "                    return \"Not Possible\"\n",
    "              \n",
    "        # Print the validation loss for the epoch.\n",
    "        average_val_loss = val_loss / len(input_data_validation)\n",
    "        #print(f\"Validation Loss: {average_val_loss} \\n\")\n",
    "        validation_loss.append(average_val_loss)\n",
    "                       \n",
    "        output = model(torch.from_numpy(df_ftd.to_numpy().astype(np.float32)).to(torch.float32)).detach().numpy()\n",
    "        \n",
    "        kmeans = KMeans(n_clusters=num_clusters, n_init='auto').fit(output)\n",
    "        \n",
    "        #print(kmeans.inertia_)\n",
    "        \n",
    "        centres = torch.Tensor(kmeans.cluster_centers_)\n",
    "        \n",
    "        \n",
    "        if epoch == 0:\n",
    "            stored_inertia = kmeans.inertia_\n",
    "            dev_loss_counter = 0\n",
    "            model_stored = copy.deepcopy(model)\n",
    "        else:\n",
    "            if kmeans.inertia_ >= stored_inertia:\n",
    "                #print(\"here\")\n",
    "                dev_loss_counter += 1\n",
    "                if dev_loss_counter > 3:\n",
    "                    #print(\"Early Stopping\")                  \n",
    "                    model = model_stored\n",
    "                    break\n",
    "            else:\n",
    "                stored_inertia = kmeans.inertia_\n",
    "                dev_loss_counter = 0\n",
    "                model_stored = copy.deepcopy(model)\n",
    "        end = time.time()\n",
    "        av_time.append((end - start))\n",
    "        \n",
    "            \n",
    "    # Testing loop\n",
    "    model.eval()  # Set the model to evaluation mode\n",
    "    test_loss = 0.0\n",
    "    with torch.no_grad():\n",
    "\n",
    "        batch_output_test = []\n",
    "\n",
    "        for X_test, y_true_test in input_data_test:\n",
    "\n",
    "            X_test = torch.tensor(X_test).to(torch.float32)\n",
    "\n",
    "            y_pred_test = model(X_test)\n",
    "\n",
    "            y_pred_test = y_pred_test.unsqueeze(0)\n",
    "\n",
    "            y_pred_detach_test = y_pred_test.clone().detach().numpy()\n",
    "            \n",
    "            if use_original == True and use_labels == False:\n",
    "                \n",
    "                P_test, Q_test = make_P_and_Q(y_pred_test, centres)\n",
    "\n",
    "                loss_test_original = kl_loss(torch.log(Q_test), P_test)\n",
    "\n",
    "                test_loss += loss_test_original.item()\n",
    "            \n",
    "            elif use_original == False and use_labels == True: \n",
    "                \n",
    "                labels_test = kmeans.predict(y_pred_detach_test)\n",
    "                \n",
    "                P_test_labels, Q_test_labels = make_label_P_Q(y_pred_test, centres, labels_test, num_clusters)\n",
    "\n",
    "                loss_test_labels = kl_loss(torch.log(Q_test_labels), P_test_labels)\n",
    "\n",
    "                test_loss += loss_test_labels.item()\n",
    "                \n",
    "            elif use_original == True and use_labels == True:\n",
    "                \n",
    "                labels_test = kmeans.predict(y_pred_detach_test)\n",
    "                \n",
    "                P_test_labels, Q_test_labels = make_label_P_Q(y_pred_test, centres, labels_test, num_clusters)\n",
    "            \n",
    "                P_test_original, Q_test_original = make_P_and_Q(y_pred_test, centres)\n",
    "\n",
    "                loss_test_labels = kl_loss(torch.log(Q_test_labels), P_test_labels)\n",
    "\n",
    "                loss_test_original = kl_loss(torch.log(Q_test_original), P_test_original)\n",
    "\n",
    "                test_loss += (loss_test_labels + loss_test_original).item()\n",
    "                    \n",
    "    # Print the average test loss\n",
    "    average_test_loss = test_loss / len(input_data_test)\n",
    "    #print(f\"Average Test Loss: {average_test_loss}\")\n",
    "    print(np.mean(av_time))\n",
    "    return training_loss, validation_loss"
   ]
  },
  {
   "cell_type": "markdown",
   "id": "78672778",
   "metadata": {},
   "source": [
    "## Training Functions"
   ]
  },
  {
   "cell_type": "markdown",
   "id": "49b4ddb1",
   "metadata": {},
   "source": [
    "We now define training functions for each of the models, being sure to store copies that can be used to analysis later. "
   ]
  },
  {
   "cell_type": "code",
   "execution_count": 33,
   "id": "9927970a",
   "metadata": {},
   "outputs": [],
   "source": [
    "def train_ae_original(ae, num_clusters, num_epochs, eps):\n",
    "\n",
    "    ae_original = copy.deepcopy(ae)\n",
    "\n",
    "    ae_original_enc = Ensembled_Encoder(ae_original)\n",
    "    training_loss, validation_loss = training_loop_KL(eps, num_epochs, ae_original_enc, num_clusters, \n",
    "                                                      initial_train_batches, initial_val, \n",
    "                                                      initial_test, use_original = True, use_labels = False)\n",
    "    \n",
    "    return ae_original_enc, training_loss, validation_loss"
   ]
  },
  {
   "cell_type": "code",
   "execution_count": 34,
   "id": "434018c0",
   "metadata": {},
   "outputs": [],
   "source": [
    "def train_ae_label(ae, num_clusters, num_epochs, eps):\n",
    "    \n",
    "    ae_label = copy.deepcopy(ae)\n",
    "\n",
    "    ae_label_enc = Ensembled_Encoder(ae_label)\n",
    "    training_loss, validation_loss = training_loop_KL(eps, num_epochs, ae_label_enc, num_clusters, \n",
    "                                                            initial_train_batches, initial_val, \n",
    "                                                            initial_test, use_original = False, use_labels = True)\n",
    "    \n",
    "    return ae_label_enc, training_loss, validation_loss "
   ]
  },
  {
   "cell_type": "code",
   "execution_count": 35,
   "id": "21e324e6",
   "metadata": {
    "scrolled": true
   },
   "outputs": [],
   "source": [
    "def train_ae_original_label(ae, num_clusters, num_epochs, eps):\n",
    "    ae_original_label = copy.deepcopy(ae)\n",
    "\n",
    "    ae_original_label_enc = Ensembled_Encoder(ae_original_label)\n",
    "    training_loss, validation_loss = training_loop_KL(eps, num_epochs, ae_original_label_enc, num_clusters, \n",
    "                                        initial_train_batches, initial_val, \n",
    "                                        initial_test, use_original = True, use_labels = False)\n",
    "    \n",
    "    return ae_original_label_enc, training_loss, validation_loss "
   ]
  },
  {
   "cell_type": "markdown",
   "id": "167851ac",
   "metadata": {},
   "source": [
    "## Metric Functions"
   ]
  },
  {
   "cell_type": "markdown",
   "id": "0e76c2b5",
   "metadata": {},
   "source": [
    "We now define functions for evaluating our models depending on their architecture. To reduce the time taken for these metrics, we used normal KMeans."
   ]
  },
  {
   "cell_type": "code",
   "execution_count": 36,
   "id": "4d50e750",
   "metadata": {},
   "outputs": [],
   "source": [
    "def get_normal_kmeans(num_clusters):\n",
    "    \n",
    "    normal_kmeans = KMeans(n_clusters=num_clusters, random_state=0, n_init='auto').fit(df_ftd)\n",
    "\n",
    "    normal_labels = normal_kmeans.fit_predict(df_ftd)\n",
    "\n",
    "    normal_inertia = normal_kmeans.inertia_\n",
    "\n",
    "    normal_sil = silhouette_score(df_ftd, normal_labels)\n",
    "    \n",
    "    return normal_inertia, normal_sil, normal_kmeans"
   ]
  },
  {
   "cell_type": "code",
   "execution_count": 37,
   "id": "706fccbb",
   "metadata": {},
   "outputs": [],
   "source": [
    "def get_pca_kmeans(num_clusters, num_components):\n",
    "    pca = PCA(n_components= num_components)  \n",
    "    pca.fit(df_ftd)\n",
    "    df_ftd_PCA_reduced = pca.transform(df_ftd)\n",
    "\n",
    "    pca_emb_kmeans = KMeans(n_clusters=num_clusters, random_state=0, n_init='auto').fit(df_ftd_PCA_reduced)\n",
    "\n",
    "    pca_inertia = pca_emb_kmeans.inertia_\n",
    "\n",
    "    pca_labels = pca_emb_kmeans.fit_predict(df_ftd_PCA_reduced)\n",
    "\n",
    "    pca_sil = silhouette_score(df_ftd_PCA_reduced, pca_labels)\n",
    "    \n",
    "    return pca_inertia, pca_sil, pca_emb_kmeans"
   ]
  },
  {
   "cell_type": "code",
   "execution_count": 38,
   "id": "5fa835ca",
   "metadata": {},
   "outputs": [],
   "source": [
    "def get_constrained_kmeans(num_clusters):\n",
    "    \n",
    "    constrained_kmeans = KMeansConstrained(n_clusters=num_clusters, size_min=200, n_init=10, random_state=0).fit(df_ftd)\n",
    "\n",
    "    constrained_labels = constrained_kmeans.fit_predict(df_ftd)\n",
    "\n",
    "    constrained_inertia = constrained_kmeans.inertia_\n",
    "\n",
    "    constrained_sil = silhouette_score(df_ftd, constrained_labels)\n",
    "    \n",
    "    return constrained_inertia, constrained_sil, constrained_kmeans"
   ]
  },
  {
   "cell_type": "code",
   "execution_count": 39,
   "id": "4c854944",
   "metadata": {},
   "outputs": [],
   "source": [
    "def get_non_KL_deep_cluster_metrics(model, num_clusters):\n",
    "    \n",
    "    embedded_df_ftd = model.encode(torch.from_numpy(df_ftd.to_numpy().astype(np.float32)).to(torch.float32)).detach().numpy()\n",
    "    \n",
    "    deep_emb_kmeans = KMeans(n_clusters=num_clusters, random_state=0, n_init='auto').fit(embedded_df_ftd)\n",
    "    \n",
    "    deep_labels = deep_emb_kmeans.fit_predict(embedded_df_ftd)\n",
    "    sil_score = silhouette_score(embedded_df_ftd, deep_labels)\n",
    "    \n",
    "    inertia = deep_emb_kmeans.inertia_\n",
    "    \n",
    "    return inertia, sil_score"
   ]
  },
  {
   "cell_type": "code",
   "execution_count": 40,
   "id": "f0433ad0",
   "metadata": {},
   "outputs": [],
   "source": [
    "def get_KL_deep_cluster_metrics(model, num_clusters):\n",
    "    \n",
    "    embedded_df_ftd = model(torch.from_numpy(df_ftd.to_numpy().astype(np.float32)).to(torch.float32)).detach().numpy()\n",
    "    \n",
    "    deep_emb_kmeans = KMeans(n_clusters=num_clusters, n_init='auto').fit(embedded_df_ftd)\n",
    "    \n",
    "    deep_labels = deep_emb_kmeans.fit_predict(embedded_df_ftd)\n",
    "    sil_score = silhouette_score(embedded_df_ftd, deep_labels)\n",
    "    \n",
    "    inertia = deep_emb_kmeans.inertia_\n",
    "    \n",
    "    return inertia, sil_score\n",
    "    "
   ]
  },
  {
   "cell_type": "markdown",
   "id": "993dba6f",
   "metadata": {},
   "source": [
    "This function combines all the work above to produce final dictionaries with the metrics for each model."
   ]
  },
  {
   "cell_type": "code",
   "execution_count": 48,
   "id": "f312543e",
   "metadata": {},
   "outputs": [],
   "source": [
    "def get_all_model_metrics(num_repeats = None, num_clusters = None, num_epochs_linear = None, num_epochs_deep = None, num_components = None, embedding_size = None, latent_size = None, eps = None):\n",
    "        \n",
    "    model_inertia_evaluation = {\n",
    "        'kmeans': [],\n",
    "        'pca_kmeans': [],\n",
    "        'constrained_kmeans': [],\n",
    "        'linear_ae': [],\n",
    "        'linear_ae_original': [],\n",
    "        'linear_ae_label': [],\n",
    "        'deep_ae': [],\n",
    "        'deep_ae_original': [],\n",
    "        'deep_ae_label': []\n",
    "    }\n",
    "    \n",
    "    \n",
    "    model_sil_evaluation = {\n",
    "        'kmeans': [],\n",
    "        'pca_kmeans': [],\n",
    "        'constrained_kmeans': [],\n",
    "        'linear_ae': [],\n",
    "        'linear_ae_original': [],\n",
    "        'linear_ae_label': [],\n",
    "        'deep_ae': [],\n",
    "        'deep_ae_original': [],\n",
    "        'deep_ae_label': []\n",
    "    }\n",
    "    \n",
    "    \n",
    "    training_losses = {\n",
    "        'linear_ae': [],\n",
    "        'linear_ae_original': [],\n",
    "        'linear_ae_label': [],\n",
    "        'deep_ae': [],\n",
    "        'deep_ae_original': [],\n",
    "        'deep_ae_label': []\n",
    "    }\n",
    "    \n",
    "    validation_losses = {\n",
    "        'linear_ae': [],\n",
    "        'linear_ae_original': [],\n",
    "        'linear_ae_label': [],\n",
    "        'deep_ae': [],\n",
    "        'deep_ae_original': [],\n",
    "        'deep_ae_label': []\n",
    "    }\n",
    "    \n",
    "    \n",
    "    models = {\n",
    "        'kmeans': [],\n",
    "        'pca_kmeans': [],\n",
    "        'constrained_kmeans': [],\n",
    "        'linear_ae': [],\n",
    "        'linear_ae_original': [],\n",
    "        'linear_ae_label': [],\n",
    "        'deep_ae': [],\n",
    "        'deep_ae_original': [],\n",
    "        'deep_ae_label': []\n",
    "    }\n",
    "    \n",
    "    print(\"Time taken to train models: \")\n",
    "    for i in range(num_repeats):   \n",
    "                       \n",
    "            ae = deep_AE(embedding_size, latent_size, 0.5)\n",
    "            print(\"Deep Autoencoder Pre-training: \")\n",
    "            ae_training_loss, ae_validation_loss = training_loop_non_KL(num_epochs_deep, ae, initial_train_batches, initial_val, initial_test, eps)\n",
    "            training_losses['deep_ae'].append(ae_training_loss)\n",
    "            validation_losses['deep_ae'].append(ae_validation_loss)\n",
    "            ae_stored = copy.deepcopy(ae)\n",
    "            models['deep_ae'].append(ae)\n",
    "            \n",
    "            print(\"Deep Delta Dist: \")\n",
    "            ae_label_enc, ae_label_training_loss, ae_label_validation_loss  = train_ae_label(ae, num_clusters, num_epochs_deep, eps)\n",
    "            training_losses['deep_ae_label'].append(ae_label_training_loss)\n",
    "            validation_losses['deep_ae_label'].append(ae_label_validation_loss)\n",
    "            models['deep_ae_label'].append(ae_label_enc)\n",
    "                        \n",
    "            print(\"Deep Standard: \")\n",
    "            ae_original_enc, ae_original_training_loss, ae_original_validation_loss = train_ae_original(ae, num_clusters, num_epochs_deep, eps)\n",
    "            training_losses['deep_ae_original'].append(ae_original_training_loss)\n",
    "            validation_losses['deep_ae_original'].append(ae_original_validation_loss)\n",
    "            models['deep_ae_original'].append(ae_original_enc)\n",
    "    \n",
    "    for i in range(num_repeats):   \n",
    "                       \n",
    "            ae = linear_AE(embedding_size, latent_size)\n",
    "            print(\"Linear Autoencoder Pre-training: \")\n",
    "            ae_training_loss, ae_validation_loss = training_loop_non_KL(num_epochs_linear, ae, initial_train_batches, initial_val, initial_test, eps)\n",
    "            training_losses['linear_ae'].append(ae_training_loss)\n",
    "            validation_losses['linear_ae'].append(ae_validation_loss)\n",
    "            ae_stored = copy.deepcopy(ae)\n",
    "            models['linear_ae'].append(ae)\n",
    "            \n",
    "            print(\"deltaDEC: \")\n",
    "            ae_label_enc, ae_label_training_loss, ae_label_validation_loss  = train_ae_label(ae, num_clusters, num_epochs_linear, eps)\n",
    "            training_losses['linear_ae_label'].append(ae_label_training_loss)\n",
    "            validation_losses['linear_ae_label'].append(ae_label_validation_loss)\n",
    "            models['linear_ae_label'].append(ae_label_enc)\n",
    "                        \n",
    "            print(\"Linear Standard DEC: \")\n",
    "            ae_original_enc, ae_original_training_loss, ae_original_validation_loss = train_ae_original(ae, num_clusters, num_epochs_linear, eps)\n",
    "            training_losses['linear_ae_original'].append(ae_original_training_loss)\n",
    "            validation_losses['linear_ae_original'].append(ae_original_validation_loss)\n",
    "            models['linear_ae_original'].append(ae_original_enc)\n",
    "                        \n",
    "    return model_inertia_evaluation, model_sil_evaluation, training_losses, validation_losses, models\n",
    "            "
   ]
  },
  {
   "cell_type": "markdown",
   "id": "05dec1d8",
   "metadata": {},
   "source": [
    "Train the models and collect the metrics. Note the outputs of the training have been removed for readability. "
   ]
  },
  {
   "cell_type": "code",
   "execution_count": 57,
   "id": "8b298855",
   "metadata": {},
   "outputs": [
    {
     "name": "stdout",
     "output_type": "stream",
     "text": [
      "Time taken to train models: \n",
      "Deep Autoencoder Pre-training: \n",
      "3.0615069024703083\n",
      "Deep Delta Dist: \n",
      "7.3500210327260636\n",
      "Deep Standard: \n",
      "4.340949177742004\n",
      "Linear Autoencoder Pre-training: \n",
      "1.520156369489782\n",
      "deltaDEC: \n",
      "5.509876489639282\n",
      "Linear Standard DEC: \n",
      "2.96699914932251\n"
     ]
    }
   ],
   "source": [
    "model_inertia_evaluation, model_sil_evaluation, training_losses, validation_losses, models = get_all_model_metrics( num_repeats = 1, num_clusters = 15, \n",
    "                                                                                                                    num_epochs_linear = 50, num_epochs_deep = 50,\n",
    "                                                                                                                   num_components = 10, embedding_size = 49, latent_size = 10, eps = 0.01)"
   ]
  }
 ],
 "metadata": {
  "kernelspec": {
   "display_name": "Python 3 (ipykernel)",
   "language": "python",
   "name": "python3"
  },
  "language_info": {
   "codemirror_mode": {
    "name": "ipython",
    "version": 3
   },
   "file_extension": ".py",
   "mimetype": "text/x-python",
   "name": "python",
   "nbconvert_exporter": "python",
   "pygments_lexer": "ipython3",
   "version": "3.10.12"
  }
 },
 "nbformat": 4,
 "nbformat_minor": 5
}
