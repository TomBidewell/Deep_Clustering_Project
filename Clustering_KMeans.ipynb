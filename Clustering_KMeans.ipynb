{
 "cells": [
  {
   "cell_type": "markdown",
   "id": "b573a4c2",
   "metadata": {},
   "source": [
    "<a id=\"0\"></a> <br>\n",
    "\n",
    " ## Table of Contents  \n",
    "\n",
    "- [Imports](#1)\n",
    "- [Read Data](#2)\n",
    "- [All Users](#7)\n",
    "    - [Data Processing](#3)\n",
    "    - [Clustering](#4)\n",
    "        - [Find Number of Clusters](#5)\n",
    "        - [Analysis of Clusters](#6)\n",
    "    - [Feature Importance](#13)\n",
    "- [FTD Only](#8)\n",
    "    - [Data Processing](#9)\n",
    "    - [Clustering](#10)\n",
    "        - [Find Number of Clusters](#11)\n",
    "        - [Analysis of Clusters](#12)\n",
    "        \n",
    "    - [Feature Importance](#14)"
   ]
  },
  {
   "cell_type": "markdown",
   "id": "150aa41e",
   "metadata": {},
   "source": [
    "<a id=\"1\"></a> \n",
    "\n",
    "### Imports"
   ]
  },
  {
   "cell_type": "code",
   "execution_count": 72,
   "id": "43e5dc33",
   "metadata": {},
   "outputs": [],
   "source": [
    "import pandas as pd\n",
    "import numpy as np\n",
    "import matplotlib.pyplot as plt\n",
    "from datetime import datetime\n",
    "from sklearn.preprocessing import MinMaxScaler\n",
    "from sklearn.cluster import KMeans\n",
    "from sklearn.ensemble import RandomForestClassifier"
   ]
  },
  {
   "cell_type": "markdown",
   "id": "b8bd75e2",
   "metadata": {},
   "source": [
    "<a id=\"2\"></a>\n",
    "\n",
    "### Read Data"
   ]
  },
  {
   "cell_type": "code",
   "execution_count": 80,
   "id": "13d22d89",
   "metadata": {},
   "outputs": [],
   "source": [
    "query_1 = pd.read_csv('/home/tom/Documents/ParlayPlay/Data/query_1.csv')\n",
    "query_1 = query_1.dropna(subset='coupon_signup_id') # one nan in this column which was stopping the left join\n",
    "query_1['coupon_signup_id'] = query_1['coupon_signup_id'].astype('Int64')\n",
    "query_2 = pd.read_csv('/home/tom/Documents/ParlayPlay/Data/query_2.csv')\n",
    "query_3 = pd.read_csv('/home/tom/Documents/ParlayPlay/Data/query_3.csv')\n",
    "query_5 = pd.read_csv('/home/tom/Documents/ParlayPlay/Data/query_5.csv')\n",
    "query_5 = query_5.rename(columns={'id':'coupon_id'})\n",
    "query_6 = pd.read_csv('/home/tom/Documents/ParlayPlay/Data/query_6.csv')\n",
    "query_7 = pd.read_csv('/home/tom/Documents/ParlayPlay/Data/fda_data.csv')"
   ]
  },
  {
   "cell_type": "code",
   "execution_count": 81,
   "id": "9e294dfb",
   "metadata": {},
   "outputs": [],
   "source": [
    "df_raw = pd.merge(query_1, query_2, how='left', left_on='id', right_on = 'username_id')\n",
    "df_raw = pd.merge(df_raw, query_3, how='left', on='username')\n",
    "df_raw = pd.merge(df_raw, query_5[['coupon_id','coupon_designation']], how='left', left_on='coupon_signup_id', right_on = 'coupon_id')\n",
    "df_raw = pd.merge(df_raw, query_6, how='left', left_on='id', right_on = 'id')"
   ]
  },
  {
   "cell_type": "code",
   "execution_count": 82,
   "id": "ab434009",
   "metadata": {},
   "outputs": [],
   "source": [
    "df_ftd = df_raw[df_raw['is_ftd'] == True]"
   ]
  },
  {
   "cell_type": "markdown",
   "id": "836f666d",
   "metadata": {},
   "source": [
    "<a id=\"7\"></a>\n",
    "\n",
    "# All Users"
   ]
  },
  {
   "cell_type": "markdown",
   "id": "2ca809a7",
   "metadata": {},
   "source": [
    "<a id=\"3\"></a>\n",
    "\n",
    "## Data Processing"
   ]
  },
  {
   "cell_type": "code",
   "execution_count": 83,
   "id": "eeb7bfbe",
   "metadata": {},
   "outputs": [],
   "source": [
    "cat_data = ['is_ftd', 'is_limited', 'sign_up_time', 'result', 'coupon_designation']"
   ]
  },
  {
   "cell_type": "code",
   "execution_count": 84,
   "id": "6c7e8697",
   "metadata": {},
   "outputs": [],
   "source": [
    "def preprocessing(df_sub):\n",
    "    \n",
    "    # drop columns\n",
    "    cols2rem = ['id', 'username_x', 'experience_level', 'created_est', 'coupon_signup_id', 'customer_id', 'dob', 'username_id', 'coupon_id', 'username_y']\n",
    "\n",
    "    df = df_sub.drop(cols2rem, axis = 1)\n",
    "    \n",
    "    # clean the  data \n",
    "\n",
    "    # fill nans from non ftds\n",
    "    df = df.fillna(0)\n",
    "\n",
    "    # convert dates into hours\n",
    "    df.max_contest_created = (datetime.now() - pd.to_datetime(df.max_contest_created)).dt.total_seconds() / 3600\n",
    "    df.max_pick_date_diff = pd.to_timedelta(df.max_pick_date_diff).dt.total_seconds() / 3600\n",
    "    df.av_pick_date_diff = pd.to_timedelta(df.av_pick_date_diff).dt.total_seconds() / 3600\n",
    "    \n",
    "    df_pre_encoding = df # for analysis later\n",
    "    \n",
    "    # encode the categorical data\n",
    "\n",
    "    df = pd.get_dummies(df, columns=cat_data, prefix=cat_data)\n",
    "    \n",
    "    # normalise numerical data\n",
    "    num_data = df.columns[:18]\n",
    "\n",
    "    min_max = MinMaxScaler()\n",
    "    df[num_data] = min_max.fit_transform(df[num_data])\n",
    "    \n",
    "    return df, df_pre_encoding, num_data"
   ]
  },
  {
   "cell_type": "code",
   "execution_count": 174,
   "id": "6e8eb85b",
   "metadata": {},
   "outputs": [],
   "source": [
    "df, df_pre_encoding, num_data = preprocessing(df_raw)"
   ]
  },
  {
   "cell_type": "markdown",
   "id": "94fc0e15",
   "metadata": {},
   "source": [
    "<a id=\"4\"></a>\n",
    "\n",
    "# Clustering"
   ]
  },
  {
   "cell_type": "markdown",
   "id": "dac2e49a",
   "metadata": {},
   "source": [
    "<a id=\"5\"></a>\n",
    "\n",
    "\n",
    "### Find Number of Clusters"
   ]
  },
  {
   "cell_type": "code",
   "execution_count": 44,
   "id": "deb6c87f",
   "metadata": {},
   "outputs": [],
   "source": [
    "def find_num_clusters(df, start, end):\n",
    "    cluster_inertia = []\n",
    "\n",
    "    for i in range(int(start),int(end)):\n",
    "        kmeans = KMeans(n_clusters=i, random_state=0, n_init = 10) \n",
    "        kmeans.fit(df)\n",
    "        cluster_inertia.append(kmeans.inertia_)\n",
    "\n",
    "\n",
    "    plt.plot(range(int(start),int(end)), cluster_inertia)\n",
    "    plt.ylabel(\"Metric for Effectiveness Clustering\")\n",
    "    plt.xlabel(\"Number of Clusters\")\n",
    "    plt.title(\"Change in Effectiveness of Clustering Based on Number of Clusters\")\n",
    "    plt.show()"
   ]
  },
  {
   "cell_type": "code",
   "execution_count": 22,
   "id": "338c28d7",
   "metadata": {},
   "outputs": [
    {
     "data": {
      "image/png": "[encoded data removed]",
      "text/plain": [
       "<Figure size 640x480 with 1 Axes>"
      ]
     },
     "metadata": {},
     "output_type": "display_data"
    }
   ],
   "source": [
    "find_num_clusters(df, 1, 31)"
   ]
  },
  {
   "cell_type": "markdown",
   "id": "784f6021",
   "metadata": {},
   "source": [
    "We see ideal number of clusters is between 12-16."
   ]
  },
  {
   "cell_type": "markdown",
   "id": "1d2ef321",
   "metadata": {},
   "source": [
    "<a id=\"6\"></a>\n",
    "\n",
    "### Analysis of Clusters"
   ]
  },
  {
   "cell_type": "code",
   "execution_count": 178,
   "id": "22c2932e",
   "metadata": {},
   "outputs": [],
   "source": [
    "# Analysis of k means\n",
    "\n",
    "def cluster_analysis(n_clusters, df_cluster_pre_encoding):\n",
    "\n",
    "    cluster_data_dict = {}\n",
    "\n",
    "    for label in list(df_cluster_pre_encoding[n_clusters].unique()):\n",
    "        each_cluster_dict = {}\n",
    "\n",
    "        df_per_cluster = df_cluster_pre_encoding[df_cluster_pre_encoding[n_clusters] == label]   \n",
    "\n",
    "        for col in num_data:\n",
    "            col_mean = df_per_cluster[col].mean()\n",
    "            each_cluster_dict[col] = col_mean\n",
    "\n",
    "            \n",
    "        for col in cat_data:\n",
    "            col_most_freq = pd.Series(df_per_cluster[col]).mode().values[0]      \n",
    "            each_cluster_dict[col] = col_most_freq\n",
    "\n",
    "        cluster_data_dict[label] = each_cluster_dict\n",
    "\n",
    "    return cluster_data_dict"
   ]
  },
  {
   "cell_type": "code",
   "execution_count": 189,
   "id": "ef20c65f",
   "metadata": {},
   "outputs": [],
   "source": [
    "def n_cluster_analysis(df_arbitary, df_pre_encoding_arbitary, start, end):\n",
    "    \n",
    "    df_cluster_pre_encoding = df_pre_encoding_arbitary\n",
    "    n_clusters_summary = {}\n",
    "    n_clusters_all = {}\n",
    "        \n",
    "    for i in range(int(start),int(end)):\n",
    "        \n",
    "        kmeans_cluster = KMeans(n_clusters = i, n_init = 10)\n",
    "        kmeans_cluster.fit(df_arbitary)\n",
    "        \n",
    "        \n",
    "        title = 'Label_{}_clusters'.format(i)\n",
    "        \n",
    "        df_cluster_pre_encoding[title] = kmeans_cluster.predict(df_arbitary)\n",
    "        \n",
    "        \n",
    "        n_clusters_all[i] = df_cluster_pre_encoding\n",
    "        \n",
    "        n_clusters_summary[i] = pd.DataFrame(cluster_analysis(title, df_cluster_pre_encoding)).T\n",
    "            \n",
    "               \n",
    "        print(\"{} clusters finished\".format(i))\n",
    "        \n",
    "    \n",
    "        \n",
    "    return n_clusters_summary, n_clusters_all"
   ]
  },
  {
   "cell_type": "code",
   "execution_count": 199,
   "id": "a24e8f94",
   "metadata": {},
   "outputs": [
    {
     "name": "stdout",
     "output_type": "stream",
     "text": [
      "12 clusters finished\n",
      "13 clusters finished\n",
      "14 clusters finished\n",
      "15 clusters finished\n",
      "16 clusters finished\n"
     ]
    }
   ],
   "source": [
    "all_cluster_summary_dict, all_cluster_all_dict = n_cluster_analysis(df, df_pre_encoding, 12, 17)"
   ]
  },
  {
   "cell_type": "markdown",
   "id": "f8a2cae4",
   "metadata": {},
   "source": [
    "<a id=\"13\"></a>\n",
    "\n",
    "## Feature Importance"
   ]
  },
  {
   "cell_type": "code",
   "execution_count": 181,
   "id": "fbf48a8c",
   "metadata": {},
   "outputs": [],
   "source": [
    "def binary_label(x, cluster):\n",
    "    if x == cluster:\n",
    "        return 1\n",
    "    else: \n",
    "        return 0"
   ]
  },
  {
   "cell_type": "code",
   "execution_count": 182,
   "id": "0ca7c079",
   "metadata": {},
   "outputs": [],
   "source": [
    "def feature_importance(X, y):\n",
    "    \n",
    "    cluster_important_feat = {}\n",
    "    \n",
    "    for cluster in range(len(np.unique(y))):\n",
    "        y_bin = pd.Series(y).apply(lambda x: binary_label(x,cluster))\n",
    "        clf = RandomForestClassifier(random_state=0)\n",
    "        clf.fit(X, y_bin)\n",
    "        top_5_features = list(X.columns[clf.feature_importances_.argsort()[-5:][::-1]])    \n",
    "        cluster_important_feat[cluster] = top_5_features\n",
    "    return cluster_important_feat"
   ]
  },
  {
   "cell_type": "code",
   "execution_count": 183,
   "id": "97484f22",
   "metadata": {},
   "outputs": [],
   "source": [
    "def n_cluster_features(df, df_pre_encoding, start, end):\n",
    "    \n",
    "    X = df\n",
    "    \n",
    "    all_clusters = {}\n",
    "\n",
    "    for i in range(int(start),int(end)):\n",
    "        \n",
    "        title = 'Label_{}_clusters'.format(i)\n",
    "        y = df_pre_encoding[title].to_numpy().squeeze()\n",
    "        \n",
    "        all_clusters[i] = feature_importance(X, y)\n",
    "        \n",
    "    return all_clusters"
   ]
  },
  {
   "cell_type": "code",
   "execution_count": 200,
   "id": "b99fcd2f",
   "metadata": {},
   "outputs": [],
   "source": [
    "all_clusters_features = n_cluster_features(df, df_pre_encoding, 12, 17)"
   ]
  },
  {
   "cell_type": "markdown",
   "id": "728b954d",
   "metadata": {},
   "source": [
    "<a id=\"8\"></a>\n",
    "\n",
    "# FTD Only"
   ]
  },
  {
   "cell_type": "markdown",
   "id": "bea45e86",
   "metadata": {},
   "source": [
    "<a id=\"9\"></a>\n",
    "\n",
    "## Data Processing"
   ]
  },
  {
   "cell_type": "code",
   "execution_count": 195,
   "id": "abc8a027",
   "metadata": {},
   "outputs": [],
   "source": [
    "df_ftd, df_ftd_pre_encoding, num_data_ftd = preprocessing(df_ftd)"
   ]
  },
  {
   "cell_type": "markdown",
   "id": "43ba5893",
   "metadata": {},
   "source": [
    "<a id=\"10\"></a>\n",
    "\n",
    "## Clustering"
   ]
  },
  {
   "cell_type": "markdown",
   "id": "f292eeaa",
   "metadata": {},
   "source": [
    "<a id=\"11\"></a>\n",
    "\n",
    "### Finding Number of Clusters"
   ]
  },
  {
   "cell_type": "code",
   "execution_count": 65,
   "id": "e67ab0ca",
   "metadata": {},
   "outputs": [
    {
     "data": {
      "image/png": "[encoded data removed]",
      "text/plain": [
       "<Figure size 640x480 with 1 Axes>"
      ]
     },
     "metadata": {},
     "output_type": "display_data"
    }
   ],
   "source": [
    "find_num_clusters(df_ftd, 1, 31)"
   ]
  },
  {
   "cell_type": "markdown",
   "id": "4c796953",
   "metadata": {},
   "source": [
    "We see the ideal number of clusters is 13-17"
   ]
  },
  {
   "cell_type": "markdown",
   "id": "f84f566b",
   "metadata": {},
   "source": [
    "<a id=\"12\"></a>\n",
    "\n",
    "### Analysis of Clusters"
   ]
  },
  {
   "cell_type": "code",
   "execution_count": 196,
   "id": "238ca362",
   "metadata": {},
   "outputs": [
    {
     "name": "stdout",
     "output_type": "stream",
     "text": [
      "13 clusters finished\n",
      "14 clusters finished\n",
      "15 clusters finished\n",
      "16 clusters finished\n"
     ]
    }
   ],
   "source": [
    "ftd_cluster_summary_dict, ftd_cluster_all_dict = n_cluster_analysis(df_ftd, df_ftd_pre_encoding, 13, 17)"
   ]
  },
  {
   "cell_type": "markdown",
   "id": "db793072",
   "metadata": {},
   "source": [
    "<a id=\"13\"></a>\n",
    "\n",
    "## Feature Importance"
   ]
  },
  {
   "cell_type": "code",
   "execution_count": 198,
   "id": "9a4cfb17",
   "metadata": {},
   "outputs": [],
   "source": [
    "ftd_clusters_features = n_cluster_features(df_ftd, df_ftd_pre_encoding, 13, 17)"
   ]
  }
 ],
 "metadata": {
  "kernelspec": {
   "display_name": "Python 3 (ipykernel)",
   "language": "python",
   "name": "python3"
  },
  "language_info": {
   "codemirror_mode": {
    "name": "ipython",
    "version": 3
   },
   "file_extension": ".py",
   "mimetype": "text/x-python",
   "name": "python",
   "nbconvert_exporter": "python",
   "pygments_lexer": "ipython3",
   "version": "3.10.12"
  }
 },
 "nbformat": 4,
 "nbformat_minor": 5
}
